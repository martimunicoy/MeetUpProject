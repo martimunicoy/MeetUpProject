{
 "cells": [
  {
   "cell_type": "markdown",
   "metadata": {},
   "source": [
    "# Imports and declarations:"
   ]
  },
  {
   "cell_type": "code",
   "execution_count": 1,
   "metadata": {},
   "outputs": [],
   "source": [
    "#jupyter nbextension enable --py --sys-prefix widgetsnbextension\n",
    "#jupyter nbextension enable --py --sys-prefix gmaps\n",
    "#jupyter notebook\n",
    "\n",
    "# Import Standard Modules\n",
    "import os\n",
    "import sys\n",
    "\n",
    "# Import gmaps package to plot on GoogleMaps maps\n",
    "import gmaps\n",
    "\n",
    "# Import our local packages\n",
    "import mapping as mp\n",
    "import meetup as mu\n",
    "import scraping as sc\n",
    "try:\n",
    "    from my_keys import GMAPS_KEY\n",
    "    from my_keys import MU_KEY\n",
    "except ImportError:\n",
    "    print(\"Keys could not be imported. Be sure to create a \\'my_keys.py\\' file\" +\n",
    "          \"in the main directory of the repository with the following definitions:\")\n",
    "    print(\"MU_KEY = \\\"THIS_IS_YOUR_MEETUP_KEY\\\"\")\n",
    "    print(\"GMAPS_KEY = \\\"THIS_IS_YOUR_GOOGLEMAPS_KEY\\\"\")\n",
    "    sys.exit(1)\n",
    "\n",
    "# Configure GoogleMaps mapper\n",
    "gmaps.configure(api_key=GMAPS_KEY)\n",
    "\n",
    "# Configure MeetUp handler\n",
    "mu.mu_requests.add_key(MU_KEY)\n",
    "\n",
    "# List of the cities from where we fetch activities\n",
    "cities = [\"London\", \"Barcelona\", \"Berlin\", \"Paris\", \"Madrid\",\n",
    "          \"Hamburg\", \"New York\", \"Brussels\", \"Hong Kong\", \"München\"]"
   ]
  },
  {
   "cell_type": "markdown",
   "metadata": {},
   "source": [
    "# Retrieve data for the chosen cities from the MeetUp client API (long job):"
   ]
  },
  {
   "cell_type": "code",
   "execution_count": null,
   "metadata": {
    "collapsed": true
   },
   "outputs": [],
   "source": [
    "# Retrieve activities from these cities and save data to \"./csv/city.csv\"\n",
    "for city in cities:\n",
    "    mu.mu_requests.get_and_save_city_events(city)\n",
    "print(\"Events fetching completed\")"
   ]
  },
  {
   "cell_type": "markdown",
   "metadata": {},
   "source": [
    "# Wikipedia scraping"
   ]
  },
  {
   "cell_type": "code",
   "execution_count": null,
   "metadata": {},
   "outputs": [],
   "source": [
    "# for city in cities:\n",
    "#     district_data = sc.wikipedia.scrap_districts_population(city)\n",
    "#     sc.wikipedia.write_csv(city, district_data)\n",
    "\n",
    "city='London'\n",
    "district_data = sc.wikipedia.scrap_districts_population(city)\n",
    "sc.wikipedia.write_csv(city, district_data)"
   ]
  },
  {
   "cell_type": "markdown",
   "metadata": {},
   "source": [
    "# Districts coloring\n",
    "\n",
    "Districts coloring according to the number of MeetUp events found in their inside. Coloring can be applied by using absolute numbers or numbers expressed per capita. Choose which way we you prefer with __per_capita__ parameter"
   ]
  },
  {
   "cell_type": "code",
   "execution_count": null,
   "metadata": {},
   "outputs": [],
   "source": [
    "city = \"Barcelona\"\n",
    "mp.mapping.paint_districts(city, opacity=0.75, verbose=True, per_capita=True)"
   ]
  },
  {
   "cell_type": "markdown",
   "metadata": {},
   "source": [
    "# Examples:"
   ]
  },
  {
   "cell_type": "code",
   "execution_count": 22,
   "metadata": {},
   "outputs": [
    {
     "data": {
      "application/vnd.jupyter.widget-view+json": {
       "model_id": "5b8012be08a6494c9f6140235101ed77",
       "version_major": 2,
       "version_minor": 0
      },
      "text/html": [
       "<p>Failed to display Jupyter Widget of type <code>Figure</code>.</p>\n",
       "<p>\n",
       "  If you're reading this message in Jupyter Notebook or JupyterLab, it may mean\n",
       "  that the widgets JavaScript is still loading. If this message persists, it\n",
       "  likely means that the widgets JavaScript library is either not installed or\n",
       "  not enabled. See the <a href=\"https://ipywidgets.readthedocs.io/en/stable/user_install.html\">Jupyter\n",
       "  Widgets Documentation</a> for setup instructions.\n",
       "</p>\n",
       "<p>\n",
       "  If you're reading this message in another notebook frontend (for example, a static\n",
       "  rendering on GitHub or <a href=\"https://nbviewer.jupyter.org/\">NBViewer</a>),\n",
       "  it may mean that your frontend doesn't currently support widgets.\n",
       "</p>\n"
      ],
      "text/plain": [
       "Figure()"
      ]
     },
     "metadata": {},
     "output_type": "display_data"
    }
   ],
   "source": [
    "# Mapping activities about Food & Drink and Games in Barcelona\n",
    "city = \"Barcelona\"\n",
    "# categories = mp.mapping.get_categories_subset((\"Food & Drink\", \"Games\"))\n",
    "categories = mp.mapping.get_categories_subset((\"Language & Ethnic Identity\"))\n",
    "categories = mp.mapping.get_categories_subset((\"Socializing\"))\n",
    "categories = mp.mapping.get_categories_subset((\"Socializing\"))\n",
    "\n",
    "\n",
    "# Create a map instance using retrieved data\n",
    "mymap = mp.mapping.map_activities(city, categories, color_patterns=[\"green\"],geojson=False)\n",
    "\n",
    "# Show map\n",
    "mymap"
   ]
  },
  {
   "cell_type": "code",
   "execution_count": 23,
   "metadata": {},
   "outputs": [
    {
     "data": {
      "application/vnd.jupyter.widget-view+json": {
       "model_id": "61c6503e68854df596e64523f89e2cd3",
       "version_major": 2,
       "version_minor": 0
      },
      "text/html": [
       "<p>Failed to display Jupyter Widget of type <code>Figure</code>.</p>\n",
       "<p>\n",
       "  If you're reading this message in Jupyter Notebook or JupyterLab, it may mean\n",
       "  that the widgets JavaScript is still loading. If this message persists, it\n",
       "  likely means that the widgets JavaScript library is either not installed or\n",
       "  not enabled. See the <a href=\"https://ipywidgets.readthedocs.io/en/stable/user_install.html\">Jupyter\n",
       "  Widgets Documentation</a> for setup instructions.\n",
       "</p>\n",
       "<p>\n",
       "  If you're reading this message in another notebook frontend (for example, a static\n",
       "  rendering on GitHub or <a href=\"https://nbviewer.jupyter.org/\">NBViewer</a>),\n",
       "  it may mean that your frontend doesn't currently support widgets.\n",
       "</p>\n"
      ],
      "text/plain": [
       "Figure()"
      ]
     },
     "metadata": {},
     "output_type": "display_data"
    }
   ],
   "source": [
    "# Mapping activities about Food & Drink and Games in Barcelona\n",
    "city = \"Barcelona\"\n",
    "# categories = mp.mapping.get_categories_subset((\"Food & Drink\", \"Games\"))\n",
    "categories = mp.mapping.get_categories_subset((\"Language & Ethnic Identity\"))\n",
    "categories = mp.mapping.get_categories_subset((\"Socializing\"))\n",
    "categories = mp.mapping.get_categories_subset((\"Tech\"))\n",
    "\n",
    "\n",
    "# Create a map instance using retrieved data\n",
    "mymap = mp.mapping.map_activities(city, categories, color_patterns=[\"green\"],geojson=False)\n",
    "\n",
    "# Show map\n",
    "mymap"
   ]
  },
  {
   "cell_type": "code",
   "execution_count": null,
   "metadata": {},
   "outputs": [],
   "source": [
    "# Mapping all activities in Paris\n",
    "city = \"Paris\"\n",
    "\n",
    "# Create a map instance using retrieved data\n",
    "mymap = mp.mapping.map_activities(city, color_patterns=\"default\")\n",
    "\n",
    "# Show map\n",
    "mymap"
   ]
  },
  {
   "cell_type": "code",
   "execution_count": null,
   "metadata": {},
   "outputs": [],
   "source": [
    "# Mapping activities about Games and Tech in New York\n",
    "city = \"New York\"\n",
    "categories = mp.mapping.get_categories_subset((\"Tech\", \"Games\"))\n",
    "\n",
    "# Create a map instance using retrieved data\n",
    "mymap = mp.mapping.map_activities(city, categories, geojson=False)\n",
    "\n",
    "# Show map\n",
    "mymap"
   ]
  },
  {
   "cell_type": "code",
   "execution_count": null,
   "metadata": {},
   "outputs": [],
   "source": [
    "# Mapping all activities scheduled in the next week in Hamburg\n",
    "city = \"Hamburg\"\n",
    "hour1 = mp.mapping.get_datetime_object(day=13,hour=0,minut=0,second=0)\n",
    "hour2 = mp.mapping.get_datetime_object(day=19,hour=23,minut=59,second=59)\n",
    "\n",
    "# Create a map instance using retrieved data\n",
    "mymap = mp.mapping.map_activities(city, time_intervals=((hour1, hour2)))\n",
    "\n",
    "# Show map\n",
    "mymap"
   ]
  },
  {
   "cell_type": "code",
   "execution_count": null,
   "metadata": {},
   "outputs": [],
   "source": [
    "# Mapping all activities scheduled in the three next weeks in Madrid\n",
    "city = \"Madrid\"\n",
    "\n",
    "# Each different week is colored in a different color pattern\n",
    "# Make different groups. Each group can be mapped using a different color pattern\n",
    "date1 = mp.mapping.get_datetime_object(day=13,hour=0,minut=0,second=0)\n",
    "date2 = mp.mapping.get_datetime_object(day=19,hour=23,minut=59,second=59)\n",
    "date3 = mp.mapping.get_datetime_object(day=20,hour=0,minut=0,second=0)\n",
    "date4 = mp.mapping.get_datetime_object(day=26,hour=23,minut=59,second=59)\n",
    "date5 = mp.mapping.get_datetime_object(day=27,hour=0,minut=0,second=0)\n",
    "date6 = mp.mapping.get_datetime_object(month=12,day=3,hour=23,minut=59,second=59)\n",
    "week1 = (date1, date2)\n",
    "week2 = (date3, date4)\n",
    "week3 = (date5, date6)\n",
    "\n",
    "# It is up to you to specify the color patterns that you prefer or you the default ones\n",
    "color_patterns = (\"cyan\", \"red\", \"green\")\n",
    "\n",
    "# Create a map instance using retrieved data\n",
    "mymap = mp.mapping.map_activities(city, time_intervals=(week1, week2, week3), color_patterns=color_patterns, geojson=True)\n",
    "\n",
    "# Show map\n",
    "mymap"
   ]
  },
  {
   "cell_type": "code",
   "execution_count": null,
   "metadata": {
    "collapsed": true
   },
   "outputs": [],
   "source": [
    "# Mapping all activities scheduled from the beginning of November to today in Berlin\n",
    "city = \"Berlin\"\n",
    "hour1 = mp.mapping.get_datetime_object(day=1,hour=0,minut=0,second=0)\n",
    "\n",
    "# Create a map instance using retrieved data\n",
    "mymap = mp.mapping.map_activities(city, time_intervals=(hour1,), geojson=True, geojson_options={'invert':True, 'colorscheme':'inferno'})\n",
    "\n",
    "# Show map\n",
    "mymap"
   ]
  },
  {
   "cell_type": "code",
   "execution_count": null,
   "metadata": {
    "collapsed": true
   },
   "outputs": [],
   "source": [
    "# Mapping all activities scheduled from the beginning of November to today in Berlin\n",
    "city = \"Berlin\"\n",
    "city = \"Hong Kong\"\n",
    "\n",
    "\n",
    "# Create a map instance using retrieved data\n",
    "mymap = mp.mapping.print_city_districts(city)#, geojson=True, geojson_options={'invert':True, 'colorscheme':'inferno'})\n",
    "\n",
    "# Show map\n",
    "mymap"
   ]
  },
  {
   "cell_type": "code",
   "execution_count": 2,
   "metadata": {},
   "outputs": [],
   "source": [
    "#Testing \n",
    "opacity=0.7\n",
    "colorscheme = 'inferno'\n",
    "invert = True\n",
    "per_capita=False\n",
    "geojson=True\n",
    "verbose=True\n",
    "\n",
    "# mymap = mp.mapping.map_activities(city, geojson=geojson, geojson_options={'invert':invert, 'colorscheme':colorscheme, 'opacity':opacity})\n",
    "# mymap = mp.mapping.paint_districts(city, opacity=opacity, colorscheme=colorscheme, per_capita=per_capita)\n",
    "\n",
    "# # Show map\n",
    "# mymap"
   ]
  },
  {
   "cell_type": "code",
   "execution_count": 3,
   "metadata": {},
   "outputs": [
    {
     "name": "stdout",
     "output_type": "stream",
     "text": [
      "District: Barking and Dagenham Note 1  |  Number of events: 1  |  Population: 194352.0\n",
      "District: Barnet  |  Number of events: 18  |  Population: 369088.0\n",
      "District: Bexley  |  Number of events: 7  |  Population: 236687.0\n",
      "District: Brent  |  Number of events: 26  |  Population: 317264.0\n",
      "District: Bromley  |  Number of events: 41  |  Population: 317899.0\n",
      "District: Camden  |  Number of events: 324  |  Population: 229719.0\n",
      "District: City of London  |  Number of events: 223  |  Population: 7000.0\n",
      "District: Croydon  |  Number of events: 50  |  Population: 372752.0\n",
      "District: Ealing  |  Number of events: 31  |  Population: 342494.0\n",
      "District: Enfield  |  Number of events: 9  |  Population: 320524.0\n",
      "District: Greenwich Note 3  |  Number of events: 49  |  Population: 264008.0\n",
      "District: Hackney  |  Number of events: 125  |  Population: 257379.0\n",
      "District: Hammersmith and Fulham Note 4  |  Number of events: 50  |  Population: 178685.0\n",
      "District: Haringey  |  Number of events: 26  |  Population: 263386.0\n",
      "District: Harrow  |  Number of events: 9  |  Population: 243372.0\n",
      "District: Havering  |  Number of events: 7  |  Population: 242080.0\n",
      "District: Hillingdon  |  Number of events: 22  |  Population: 286806.0\n",
      "District: Hounslow  |  Number of events: 22  |  Population: 262407.0\n",
      "District: Islington  |  Number of events: 198  |  Population: 215667.0\n",
      "District: Kensington and Chelsea  |  Number of events: 93  |  Population: 155594.0\n",
      "District: Kingston upon Thames  |  Number of events: 28  |  Population: 166793.0\n",
      "District: Lambeth  |  Number of events: 176  |  Population: 314242.0\n",
      "District: Lewisham  |  Number of events: 29  |  Population: 286180.0\n",
      "District: Merton  |  Number of events: 51  |  Population: 203223.0\n",
      "District: Newham  |  Number of events: 48  |  Population: 318227.0\n",
      "District: Redbridge  |  Number of events: 19  |  Population: 288272.0\n",
      "District: Richmond upon Thames  |  Number of events: 38  |  Population: 191365.0\n",
      "District: Southwark  |  Number of events: 150  |  Population: 298464.0\n",
      "District: Sutton  |  Number of events: 37  |  Population: 195914.0\n",
      "District: Tower Hamlets  |  Number of events: 156  |  Population: 272890.0\n",
      "District: Waltham Forest  |  Number of events: 15  |  Population: 265797.0\n",
      "District: Wandsworth  |  Number of events: 45  |  Population: 310516.0\n",
      "District: Westminster  |  Number of events: 428  |  Population: 226841.0\n",
      "Not located events: 853\n"
     ]
    },
    {
     "data": {
      "application/vnd.jupyter.widget-view+json": {
       "model_id": "f90ded5eb70946e0871d03ae4bd2557d",
       "version_major": 2,
       "version_minor": 0
      },
      "text/html": [
       "<p>Failed to display Jupyter Widget of type <code>Figure</code>.</p>\n",
       "<p>\n",
       "  If you're reading this message in Jupyter Notebook or JupyterLab, it may mean\n",
       "  that the widgets JavaScript is still loading. If this message persists, it\n",
       "  likely means that the widgets JavaScript library is either not installed or\n",
       "  not enabled. See the <a href=\"https://ipywidgets.readthedocs.io/en/stable/user_install.html\">Jupyter\n",
       "  Widgets Documentation</a> for setup instructions.\n",
       "</p>\n",
       "<p>\n",
       "  If you're reading this message in another notebook frontend (for example, a static\n",
       "  rendering on GitHub or <a href=\"https://nbviewer.jupyter.org/\">NBViewer</a>),\n",
       "  it may mean that your frontend doesn't currently support widgets.\n",
       "</p>\n"
      ],
      "text/plain": [
       "Figure()"
      ]
     },
     "metadata": {},
     "output_type": "display_data"
    }
   ],
   "source": [
    "city = 'London'\n",
    "\n",
    "mymap = mp.mapping.paint_districts(city, opacity=opacity, colorscheme=colorscheme, per_capita=per_capita, verbose=verbose)\n",
    "mymap"
   ]
  },
  {
   "cell_type": "code",
   "execution_count": 17,
   "metadata": {},
   "outputs": [
    {
     "data": {
      "application/vnd.jupyter.widget-view+json": {
       "model_id": "dc23adc5293e4566a0fc4b6738d46a0f",
       "version_major": 2,
       "version_minor": 0
      },
      "text/html": [
       "<p>Failed to display Jupyter Widget of type <code>Figure</code>.</p>\n",
       "<p>\n",
       "  If you're reading this message in Jupyter Notebook or JupyterLab, it may mean\n",
       "  that the widgets JavaScript is still loading. If this message persists, it\n",
       "  likely means that the widgets JavaScript library is either not installed or\n",
       "  not enabled. See the <a href=\"https://ipywidgets.readthedocs.io/en/stable/user_install.html\">Jupyter\n",
       "  Widgets Documentation</a> for setup instructions.\n",
       "</p>\n",
       "<p>\n",
       "  If you're reading this message in another notebook frontend (for example, a static\n",
       "  rendering on GitHub or <a href=\"https://nbviewer.jupyter.org/\">NBViewer</a>),\n",
       "  it may mean that your frontend doesn't currently support widgets.\n",
       "</p>\n"
      ],
      "text/plain": [
       "Figure()"
      ]
     },
     "metadata": {},
     "output_type": "display_data"
    }
   ],
   "source": [
    "# Mapping activities about Food & Drink and Games in Barcelona\n",
    "city = \"Berlin\"\n",
    "categories = mp.mapping.get_categories_subset((\"Tech\"))\n",
    "\n",
    "# Create a map instance using retrieved data\n",
    "mymap = mp.mapping.map_activities(city,geojson=False, categories=categories, max_intensity=1, geojson_options={'colorscheme':'grays', 'opacity':0.2})\n",
    "\n",
    "# Show map\n",
    "mymap"
   ]
  },
  {
   "cell_type": "code",
   "execution_count": 4,
   "metadata": {},
   "outputs": [
    {
     "name": "stdout",
     "output_type": "stream",
     "text": [
      "District: Ciutat Vella  |  Number of events: 128  |  Population: 111290.0\n",
      "District: Eixample  |  Number of events: 166  |  Population: 262485.0\n",
      "District: Sants-Montjuïc  |  Number of events: 45  |  Population: 177636.0\n",
      "District: Les Corts  |  Number of events: 10  |  Population: 82588.0\n",
      "District: Sarrià-Sant Gervasi  |  Number of events: 37  |  Population: 140461.0\n",
      "District: Gràcia  |  Number of events: 42  |  Population: 120087.0\n",
      "District: Horta-Guinardó  |  Number of events: 3  |  Population: 169920.0\n",
      "District: Nou Barris  |  Number of events: 3  |  Population: 164981.0\n",
      "District: Sant Andreu  |  Number of events: 9  |  Population: 142598.0\n",
      "District: Sant Martí  |  Number of events: 54  |  Population: 221029.0\n",
      "Not located events: 240\n"
     ]
    },
    {
     "data": {
      "application/vnd.jupyter.widget-view+json": {
       "model_id": "7668ad085bed4d2583fa62f2fd48aef5",
       "version_major": 2,
       "version_minor": 0
      },
      "text/html": [
       "<p>Failed to display Jupyter Widget of type <code>Figure</code>.</p>\n",
       "<p>\n",
       "  If you're reading this message in Jupyter Notebook or JupyterLab, it may mean\n",
       "  that the widgets JavaScript is still loading. If this message persists, it\n",
       "  likely means that the widgets JavaScript library is either not installed or\n",
       "  not enabled. See the <a href=\"https://ipywidgets.readthedocs.io/en/stable/user_install.html\">Jupyter\n",
       "  Widgets Documentation</a> for setup instructions.\n",
       "</p>\n",
       "<p>\n",
       "  If you're reading this message in another notebook frontend (for example, a static\n",
       "  rendering on GitHub or <a href=\"https://nbviewer.jupyter.org/\">NBViewer</a>),\n",
       "  it may mean that your frontend doesn't currently support widgets.\n",
       "</p>\n"
      ],
      "text/plain": [
       "Figure()"
      ]
     },
     "metadata": {},
     "output_type": "display_data"
    }
   ],
   "source": [
    "city = cities[1]\n",
    "\n",
    "mymap = mp.mapping.paint_districts(city, opacity=opacity, colorscheme=colorscheme, per_capita=per_capita, verbose=verbose)\n",
    "mymap"
   ]
  },
  {
   "cell_type": "code",
   "execution_count": 5,
   "metadata": {},
   "outputs": [
    {
     "name": "stdout",
     "output_type": "stream",
     "text": [
      "District: Mitte  |  Number of events: 177  |  Population: 332919.0\n",
      "District: Friedrichshain-Kreuzberg  |  Number of events: 135  |  Population: 268225.0\n",
      "District: Pankow  |  Number of events: 65  |  Population: 366441.0\n",
      "District: Charlottenburg-Wilmersdorf  |  Number of events: 32  |  Population: 319628.0\n",
      "District: Spandau  |  Number of events: 0  |  Population: 223962.0\n",
      "District: Steglitz-Zehlendorf  |  Number of events: 5  |  Population: 293989.0\n",
      "District: Tempelhof-Schöneberg  |  Number of events: 29  |  Population: 335060.0\n",
      "District: Neukölln  |  Number of events: 34  |  Population: 310283.0\n",
      "District: Treptow-Köpenick  |  Number of events: 7  |  Population: 241335.0\n",
      "District: Marzahn-Hellersdorf  |  Number of events: 1  |  Population: 248264.0\n",
      "District: Lichtenberg  |  Number of events: 5  |  Population: 259881.0\n",
      "District: Reinickendorf  |  Number of events: 0  |  Population: 240454.0\n",
      "Not located events: 170\n"
     ]
    },
    {
     "data": {
      "application/vnd.jupyter.widget-view+json": {
       "model_id": "04633ba2a7834e61b13a4a924967e9af",
       "version_major": 2,
       "version_minor": 0
      },
      "text/html": [
       "<p>Failed to display Jupyter Widget of type <code>Figure</code>.</p>\n",
       "<p>\n",
       "  If you're reading this message in Jupyter Notebook or JupyterLab, it may mean\n",
       "  that the widgets JavaScript is still loading. If this message persists, it\n",
       "  likely means that the widgets JavaScript library is either not installed or\n",
       "  not enabled. See the <a href=\"https://ipywidgets.readthedocs.io/en/stable/user_install.html\">Jupyter\n",
       "  Widgets Documentation</a> for setup instructions.\n",
       "</p>\n",
       "<p>\n",
       "  If you're reading this message in another notebook frontend (for example, a static\n",
       "  rendering on GitHub or <a href=\"https://nbviewer.jupyter.org/\">NBViewer</a>),\n",
       "  it may mean that your frontend doesn't currently support widgets.\n",
       "</p>\n"
      ],
      "text/plain": [
       "Figure()"
      ]
     },
     "metadata": {},
     "output_type": "display_data"
    }
   ],
   "source": [
    "city = cities[2]\n",
    "\n",
    "mymap = mp.mapping.paint_districts(city, opacity=opacity, colorscheme=colorscheme, per_capita=per_capita, verbose=verbose)\n",
    "mymap"
   ]
  },
  {
   "cell_type": "code",
   "execution_count": 6,
   "metadata": {},
   "outputs": [
    {
     "name": "stdout",
     "output_type": "stream",
     "text": [
      "District: Bourse  |  Number of events: 37  |  Population: 19585.0\n",
      "District: Temple  |  Number of events: 19  |  Population: 34248.0\n",
      "District: Panthéon  |  Number of events: 17  |  Population: 58849.0\n",
      "District: Luxembourg  |  Number of events: 21  |  Population: 44919.0\n",
      "District: Palais-Bourbon  |  Number of events: 9  |  Population: 56985.0\n",
      "District: Élysée  |  Number of events: 40  |  Population: 39314.0\n",
      "District: Opéra  |  Number of events: 24  |  Population: 55838.0\n",
      "District: Entrepôt  |  Number of events: 55  |  Population: 89612.0\n",
      "District: Popincourt  |  Number of events: 47  |  Population: 149102.0\n",
      "District: Gobelins  |  Number of events: 17  |  Population: 171533.0\n",
      "District: Observatoire  |  Number of events: 30  |  Population: 132844.0\n",
      "District: Vaugirard  |  Number of events: 24  |  Population: 225362.0\n",
      "District: Passy  |  Number of events: 10  |  Population: 161773.0\n",
      "District: Batignolles-Monceau  |  Number of events: 26  |  Population: 160860.0\n",
      "District: Butte-Montmartre  |  Number of events: 15  |  Population: 184586.0\n",
      "District: Buttes-Chaumont  |  Number of events: 31  |  Population: 172730.0\n",
      "District: Louvre  |  Number of events: 56  |  Population: 16888.0\n",
      "District: Hôtel-de-Ville  |  Number of events: 43  |  Population: 30675.0\n",
      "District: Reuilly  |  Number of events: 13  |  Population: 136591.0\n",
      "District: Ménilmontant  |  Number of events: 8  |  Population: 182952.0\n",
      "Not located events: 228\n"
     ]
    },
    {
     "data": {
      "application/vnd.jupyter.widget-view+json": {
       "model_id": "427a09e4f2f14e45af0ece2d156e9f6f",
       "version_major": 2,
       "version_minor": 0
      },
      "text/html": [
       "<p>Failed to display Jupyter Widget of type <code>Figure</code>.</p>\n",
       "<p>\n",
       "  If you're reading this message in Jupyter Notebook or JupyterLab, it may mean\n",
       "  that the widgets JavaScript is still loading. If this message persists, it\n",
       "  likely means that the widgets JavaScript library is either not installed or\n",
       "  not enabled. See the <a href=\"https://ipywidgets.readthedocs.io/en/stable/user_install.html\">Jupyter\n",
       "  Widgets Documentation</a> for setup instructions.\n",
       "</p>\n",
       "<p>\n",
       "  If you're reading this message in another notebook frontend (for example, a static\n",
       "  rendering on GitHub or <a href=\"https://nbviewer.jupyter.org/\">NBViewer</a>),\n",
       "  it may mean that your frontend doesn't currently support widgets.\n",
       "</p>\n"
      ],
      "text/plain": [
       "Figure()"
      ]
     },
     "metadata": {},
     "output_type": "display_data"
    }
   ],
   "source": [
    "city = cities[3]\n",
    "\n",
    "mymap = mp.mapping.paint_districts(city, opacity=opacity, colorscheme=colorscheme, per_capita=per_capita, verbose=verbose)\n",
    "mymap"
   ]
  },
  {
   "cell_type": "code",
   "execution_count": 7,
   "metadata": {},
   "outputs": [
    {
     "name": "stdout",
     "output_type": "stream",
     "text": [
      "District: Centro  |  Number of events: 133  |  Population: 131928.0\n",
      "District: Arganzuela  |  Number of events: 30  |  Population: 151965.0\n",
      "District: Retiro  |  Number of events: 16  |  Population: 118516.0\n",
      "District: Salamanca  |  Number of events: 18  |  Population: 143800.0\n",
      "District: Chamartín  |  Number of events: 17  |  Population: 143424.0\n",
      "District: Tetuán  |  Number of events: 12  |  Population: 153789.0\n",
      "District: Chamberí  |  Number of events: 23  |  Population: 137401.0\n",
      "District: Fuencarral-El Pardo  |  Number of events: 6  |  Population: 238756.0\n",
      "District: Moncloa-Aravaca  |  Number of events: 15  |  Population: 116903.0\n",
      "District: Latina  |  Number of events: 0  |  Population: 233808.0\n",
      "District: Carabanchel  |  Number of events: 2  |  Population: 243998.0\n",
      "District: Usera  |  Number of events: 0  |  Population: 134791.0\n",
      "District: Puente de Vallecas  |  Number of events: 0  |  Population: 227595.0\n",
      "District: Moratalaz  |  Number of events: 0  |  Population: 94197.0\n",
      "District: Ciudad Lineal  |  Number of events: 1  |  Population: 212529.0\n",
      "District: Hortaleza  |  Number of events: 1  |  Population: 180462.0\n",
      "District: Villaverde  |  Number of events: 5  |  Population: 142608.0\n",
      "District: Villa de Vallecas  |  Number of events: 0  |  Population: 104421.0\n",
      "District: Vicálvaro  |  Number of events: 5  |  Population: 70051.0\n",
      "District: San Blas-Canillejas  |  Number of events: 8  |  Population: 154357.0\n",
      "District: Barajas  |  Number of events: 3  |  Population: 46876.0\n",
      "Not located events: 130\n"
     ]
    },
    {
     "data": {
      "application/vnd.jupyter.widget-view+json": {
       "model_id": "22cc88c912174b27ab6f936dce65d9ad",
       "version_major": 2,
       "version_minor": 0
      },
      "text/html": [
       "<p>Failed to display Jupyter Widget of type <code>Figure</code>.</p>\n",
       "<p>\n",
       "  If you're reading this message in Jupyter Notebook or JupyterLab, it may mean\n",
       "  that the widgets JavaScript is still loading. If this message persists, it\n",
       "  likely means that the widgets JavaScript library is either not installed or\n",
       "  not enabled. See the <a href=\"https://ipywidgets.readthedocs.io/en/stable/user_install.html\">Jupyter\n",
       "  Widgets Documentation</a> for setup instructions.\n",
       "</p>\n",
       "<p>\n",
       "  If you're reading this message in another notebook frontend (for example, a static\n",
       "  rendering on GitHub or <a href=\"https://nbviewer.jupyter.org/\">NBViewer</a>),\n",
       "  it may mean that your frontend doesn't currently support widgets.\n",
       "</p>\n"
      ],
      "text/plain": [
       "Figure()"
      ]
     },
     "metadata": {},
     "output_type": "display_data"
    }
   ],
   "source": [
    "city = cities[4]\n",
    "\n",
    "mymap = mp.mapping.paint_districts(city, opacity=opacity, colorscheme=colorscheme, per_capita=per_capita, verbose=verbose)\n",
    "mymap"
   ]
  },
  {
   "cell_type": "code",
   "execution_count": 8,
   "metadata": {},
   "outputs": [
    {
     "name": "stdout",
     "output_type": "stream",
     "text": [
      "District: Hamburg-Mitte  |  Number of events: 45  |  Population: 233114.0\n",
      "District: Altona  |  Number of events: 27  |  Population: 243972.0\n",
      "District: Eimsbüttel  |  Number of events: 10  |  Population: 246087.0\n",
      "District: Hamburg-Nord  |  Number of events: 38  |  Population: 279498.0\n",
      "District: Wandsbek  |  Number of events: 3  |  Population: 409771.0\n",
      "District: Bergedorf  |  Number of events: 2  |  Population: 118942.0\n",
      "District: Harburg  |  Number of events: 0  |  Population: 201119.0\n",
      "Not located events: 63\n"
     ]
    },
    {
     "data": {
      "application/vnd.jupyter.widget-view+json": {
       "model_id": "3778c089f7404ea5a205acbaef2c988c",
       "version_major": 2,
       "version_minor": 0
      },
      "text/html": [
       "<p>Failed to display Jupyter Widget of type <code>Figure</code>.</p>\n",
       "<p>\n",
       "  If you're reading this message in Jupyter Notebook or JupyterLab, it may mean\n",
       "  that the widgets JavaScript is still loading. If this message persists, it\n",
       "  likely means that the widgets JavaScript library is either not installed or\n",
       "  not enabled. See the <a href=\"https://ipywidgets.readthedocs.io/en/stable/user_install.html\">Jupyter\n",
       "  Widgets Documentation</a> for setup instructions.\n",
       "</p>\n",
       "<p>\n",
       "  If you're reading this message in another notebook frontend (for example, a static\n",
       "  rendering on GitHub or <a href=\"https://nbviewer.jupyter.org/\">NBViewer</a>),\n",
       "  it may mean that your frontend doesn't currently support widgets.\n",
       "</p>\n"
      ],
      "text/plain": [
       "Figure()"
      ]
     },
     "metadata": {},
     "output_type": "display_data"
    }
   ],
   "source": [
    "city = cities[5]\n",
    "\n",
    "mymap = mp.mapping.paint_districts(city, opacity=opacity, colorscheme=colorscheme, per_capita=per_capita, verbose=verbose)\n",
    "mymap"
   ]
  },
  {
   "cell_type": "code",
   "execution_count": 9,
   "metadata": {},
   "outputs": [
    {
     "name": "stdout",
     "output_type": "stream",
     "text": [
      "District: Staten Island  |  Number of events: 26  |  Population: 19745289.0\n",
      "District: Queens  |  Number of events: 192  |  Population: 2333054.0\n",
      "District: Brooklyn  |  Number of events: 294  |  Population: 2629150.0\n",
      "District: Manhattan  |  Number of events: 1017  |  Population: 1643734.0\n",
      "District: The Bronx  |  Number of events: 21  |  Population: 1455720.0\n",
      "Not located events: 1655\n"
     ]
    },
    {
     "data": {
      "application/vnd.jupyter.widget-view+json": {
       "model_id": "840b2b0ba5214aa3821d26ccff46580c",
       "version_major": 2,
       "version_minor": 0
      },
      "text/html": [
       "<p>Failed to display Jupyter Widget of type <code>Figure</code>.</p>\n",
       "<p>\n",
       "  If you're reading this message in Jupyter Notebook or JupyterLab, it may mean\n",
       "  that the widgets JavaScript is still loading. If this message persists, it\n",
       "  likely means that the widgets JavaScript library is either not installed or\n",
       "  not enabled. See the <a href=\"https://ipywidgets.readthedocs.io/en/stable/user_install.html\">Jupyter\n",
       "  Widgets Documentation</a> for setup instructions.\n",
       "</p>\n",
       "<p>\n",
       "  If you're reading this message in another notebook frontend (for example, a static\n",
       "  rendering on GitHub or <a href=\"https://nbviewer.jupyter.org/\">NBViewer</a>),\n",
       "  it may mean that your frontend doesn't currently support widgets.\n",
       "</p>\n"
      ],
      "text/plain": [
       "Figure()"
      ]
     },
     "metadata": {},
     "output_type": "display_data"
    }
   ],
   "source": [
    "city = cities[6]\n",
    "\n",
    "mymap = mp.mapping.paint_districts(city, opacity=opacity, colorscheme=colorscheme, per_capita=per_capita, verbose=verbose)\n",
    "mymap"
   ]
  },
  {
   "cell_type": "code",
   "execution_count": 10,
   "metadata": {},
   "outputs": [
    {
     "name": "stdout",
     "output_type": "stream",
     "text": [
      "District: Anderlecht  |  Number of events: 1  |  Population: 117412.0\n",
      "District: Auderghem  |  Number of events: 2  |  Population: 33161.0\n",
      "District: Berchem-Sainte-Agathe  |  Number of events: 0  |  Population: 24224.0\n",
      "District: Bruxelles-Ville  |  Number of events: 56  |  Population: 178552.0\n",
      "District: Etterbeek  |  Number of events: 14  |  Population: 47180.0\n",
      "District: Evere  |  Number of events: 4  |  Population: 39556.0\n",
      "District: Forest  |  Number of events: 1  |  Population: 55613.0\n",
      "District: Ganshoren  |  Number of events: 0  |  Population: 24269.0\n",
      "District: Ixelles  |  Number of events: 18  |  Population: 85541.0\n",
      "District: Jette  |  Number of events: 0  |  Population: 51426.0\n",
      "District: Koekelberg  |  Number of events: 2  |  Population: 21638.0\n",
      "District: Molenbeek-Saint-Jean  |  Number of events: 4  |  Population: 96586.0\n",
      "District: Saint-Gilles  |  Number of events: 5  |  Population: 50659.0\n",
      "District: Saint-Josse-ten-Noode  |  Number of events: 2  |  Population: 27402.0\n",
      "District: Watermael-Boitsfort  |  Number of events: 1  |  Population: 24619.0\n",
      "District: Schaerbeek  |  Number of events: 2  |  Population: 132590.0\n",
      "District: Uccle  |  Number of events: 0  |  Population: 81944.0\n",
      "District: Woluwe-Saint-Lambert  |  Number of events: 8  |  Population: 54311.0\n",
      "District: Woluwe-Saint-Pierre  |  Number of events: 3  |  Population: 41207.0\n",
      "Not located events: 72\n"
     ]
    },
    {
     "data": {
      "application/vnd.jupyter.widget-view+json": {
       "model_id": "fb020bd80c144588aaa21ad01e553ace",
       "version_major": 2,
       "version_minor": 0
      },
      "text/html": [
       "<p>Failed to display Jupyter Widget of type <code>Figure</code>.</p>\n",
       "<p>\n",
       "  If you're reading this message in Jupyter Notebook or JupyterLab, it may mean\n",
       "  that the widgets JavaScript is still loading. If this message persists, it\n",
       "  likely means that the widgets JavaScript library is either not installed or\n",
       "  not enabled. See the <a href=\"https://ipywidgets.readthedocs.io/en/stable/user_install.html\">Jupyter\n",
       "  Widgets Documentation</a> for setup instructions.\n",
       "</p>\n",
       "<p>\n",
       "  If you're reading this message in another notebook frontend (for example, a static\n",
       "  rendering on GitHub or <a href=\"https://nbviewer.jupyter.org/\">NBViewer</a>),\n",
       "  it may mean that your frontend doesn't currently support widgets.\n",
       "</p>\n"
      ],
      "text/plain": [
       "Figure()"
      ]
     },
     "metadata": {},
     "output_type": "display_data"
    }
   ],
   "source": [
    "city = cities[7]\n",
    "\n",
    "mymap = mp.mapping.paint_districts(city, opacity=opacity, colorscheme=colorscheme, per_capita=per_capita, verbose=verbose)\n",
    "mymap"
   ]
  },
  {
   "cell_type": "code",
   "execution_count": 11,
   "metadata": {},
   "outputs": [
    {
     "name": "stdout",
     "output_type": "stream",
     "text": [
      "District: North  |  Number of events: 4  |  Population: 310800.0\n",
      "District: Central and Western  |  Number of events: 69  |  Population: 244600.0\n",
      "District: Eastern  |  Number of events: 12  |  Population: 574500.0\n",
      "District: Sha Tin  |  Number of events: 4  |  Population: 648200.0\n",
      "District: Sham Shui Po  |  Number of events: 10  |  Population: 390600.0\n",
      "District: Sai Kung  |  Number of events: 2  |  Population: 448600.0\n",
      "District: Yau Tsim Mong  |  Number of events: 57  |  Population: 318100.0\n",
      "District: Tsuen Wan  |  Number of events: 9  |  Population: 303600.0\n",
      "District: Kwai Tsing  |  Number of events: 3  |  Population: 507100.0\n",
      "District: Southern  |  Number of events: 5  |  Population: 269200.0\n",
      "District: Yuen Long  |  Number of events: 5  |  Population: 607200.0\n",
      "District: Wan Chai  |  Number of events: 38  |  Population: 150900.0\n",
      "District: Tai Po  |  Number of events: 0  |  Population: 307100.0\n",
      "District: Kowloon City  |  Number of events: 13  |  Population: 405400.0\n",
      "District: Islands  |  Number of events: 5  |  Population: 146900.0\n",
      "District: Tuen Mun  |  Number of events: 1  |  Population: 495900.0\n",
      "District: Kwun Tong  |  Number of events: 15  |  Population: 641100.0\n",
      "District: Wong Tai Sin  |  Number of events: 3  |  Population: 426200.0\n",
      "Not located events: 90\n"
     ]
    },
    {
     "data": {
      "application/vnd.jupyter.widget-view+json": {
       "model_id": "634bbca2075544b6924f7d41a1870ae0",
       "version_major": 2,
       "version_minor": 0
      },
      "text/html": [
       "<p>Failed to display Jupyter Widget of type <code>Figure</code>.</p>\n",
       "<p>\n",
       "  If you're reading this message in Jupyter Notebook or JupyterLab, it may mean\n",
       "  that the widgets JavaScript is still loading. If this message persists, it\n",
       "  likely means that the widgets JavaScript library is either not installed or\n",
       "  not enabled. See the <a href=\"https://ipywidgets.readthedocs.io/en/stable/user_install.html\">Jupyter\n",
       "  Widgets Documentation</a> for setup instructions.\n",
       "</p>\n",
       "<p>\n",
       "  If you're reading this message in another notebook frontend (for example, a static\n",
       "  rendering on GitHub or <a href=\"https://nbviewer.jupyter.org/\">NBViewer</a>),\n",
       "  it may mean that your frontend doesn't currently support widgets.\n",
       "</p>\n"
      ],
      "text/plain": [
       "Figure()"
      ]
     },
     "metadata": {},
     "output_type": "display_data"
    }
   ],
   "source": [
    "city = cities[8]\n",
    "\n",
    "mymap = mp.mapping.paint_districts(city, opacity=opacity, colorscheme=colorscheme, per_capita=per_capita, verbose=verbose)\n",
    "mymap"
   ]
  },
  {
   "cell_type": "code",
   "execution_count": 12,
   "metadata": {},
   "outputs": [
    {
     "name": "stdout",
     "output_type": "stream",
     "text": [
      "District: Untergiesing-Harlaching  |  Number of events: 0  |  Population: 54050.0\n",
      "District: Altstadt-Lehel  |  Number of events: 34  |  Population: 21454.0\n",
      "District: Schwanthalerhöhe  |  Number of events: 13  |  Population: 30282.0\n",
      "District: Sendling  |  Number of events: 5  |  Population: 41230.0\n",
      "District: Berg am Laim  |  Number of events: 11  |  Population: 45655.0\n",
      "District: Sendling-Westpark  |  Number of events: 0  |  Population: 59175.0\n",
      "District: Laim  |  Number of events: 11  |  Population: 56335.0\n",
      "District: Moosach  |  Number of events: 2  |  Population: 53859.0\n",
      "District: Au-Haidhausen  |  Number of events: 24  |  Population: 61999.0\n",
      "District: Allach-Untermenzing  |  Number of events: 0  |  Population: 32248.0\n",
      "District: Maxvorstadt  |  Number of events: 20  |  Population: 53443.0\n",
      "District: Milbertshofen-Am Hart  |  Number of events: 0  |  Population: 76255.0\n",
      "District: Ramersdorf-Perlach  |  Number of events: 8  |  Population: 113898.0\n",
      "District: Ludwigsvorstadt-Isarvorstadt  |  Number of events: 8  |  Population: 54915.0\n",
      "District: Bogenhausen  |  Number of events: 7  |  Population: 87164.0\n",
      "District: Aubing-Lochhausen-Langwied  |  Number of events: 0  |  Population: 45571.0\n",
      "District: Feldmoching-Hasenbergl  |  Number of events: 0  |  Population: 61764.0\n",
      "District: Schwabing-West  |  Number of events: 9  |  Population: 69407.0\n",
      "District: Hadern  |  Number of events: 1  |  Population: 50567.0\n",
      "District: Neuhausen-Nymphenburg  |  Number of events: 21  |  Population: 99538.0\n",
      "District: Obergiesing-Fasangarten  |  Number of events: 2  |  Population: 54784.0\n",
      "District: Pasing-Obermenzing  |  Number of events: 0  |  Population: 74432.0\n",
      "District: Untergiesing-Harlaching  |  Number of events: 0  |  Population: 54050.0\n",
      "District: Schwabing-Freimann  |  Number of events: 21  |  Population: 77188.0\n",
      "District: Thalkirchen-Obersendling-Forstenried-Fürstenried-Solln  |  Number of events: 13  |  Population: 96199.0\n",
      "District: Trudering-Riem  |  Number of events: 2  |  Population: 71448.0\n",
      "Not located events: 80\n"
     ]
    },
    {
     "data": {
      "application/vnd.jupyter.widget-view+json": {
       "model_id": "d3f22b1b670645bba17723c828122aef",
       "version_major": 2,
       "version_minor": 0
      },
      "text/html": [
       "<p>Failed to display Jupyter Widget of type <code>Figure</code>.</p>\n",
       "<p>\n",
       "  If you're reading this message in Jupyter Notebook or JupyterLab, it may mean\n",
       "  that the widgets JavaScript is still loading. If this message persists, it\n",
       "  likely means that the widgets JavaScript library is either not installed or\n",
       "  not enabled. See the <a href=\"https://ipywidgets.readthedocs.io/en/stable/user_install.html\">Jupyter\n",
       "  Widgets Documentation</a> for setup instructions.\n",
       "</p>\n",
       "<p>\n",
       "  If you're reading this message in another notebook frontend (for example, a static\n",
       "  rendering on GitHub or <a href=\"https://nbviewer.jupyter.org/\">NBViewer</a>),\n",
       "  it may mean that your frontend doesn't currently support widgets.\n",
       "</p>\n"
      ],
      "text/plain": [
       "Figure()"
      ]
     },
     "metadata": {},
     "output_type": "display_data"
    }
   ],
   "source": [
    "city = cities[9]\n",
    "\n",
    "mymap = mp.mapping.paint_districts(city, opacity=opacity, colorscheme=colorscheme, per_capita=per_capita, verbose=verbose)\n",
    "mymap"
   ]
  }
 ],
 "metadata": {
  "kernelspec": {
   "display_name": "Python 3",
   "language": "python",
   "name": "python3"
  },
  "language_info": {
   "codemirror_mode": {
    "name": "ipython",
    "version": 3
   },
   "file_extension": ".py",
   "mimetype": "text/x-python",
   "name": "python",
   "nbconvert_exporter": "python",
   "pygments_lexer": "ipython3",
   "version": "3.6.3"
  }
 },
 "nbformat": 4,
 "nbformat_minor": 2
}
