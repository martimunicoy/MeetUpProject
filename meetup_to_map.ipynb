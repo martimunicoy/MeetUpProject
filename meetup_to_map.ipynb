{
 "cells": [
  {
   "cell_type": "markdown",
   "metadata": {},
   "source": [
    "# Imports and declarations:"
   ]
  },
  {
   "cell_type": "code",
   "execution_count": 1,
   "metadata": {},
   "outputs": [],
   "source": [
    "#jupyter nbextension enable --py --sys-prefix widgetsnbextension\n",
    "#jupyter nbextension enable --py --sys-prefix gmaps\n",
    "#jupyter notebook\n",
    "\n",
    "# Import Standard Modules\n",
    "import os\n",
    "import sys\n",
    "\n",
    "# Import gmaps package to plot on GoogleMaps maps\n",
    "import gmaps\n",
    "\n",
    "# Import our local packages\n",
    "import mapping as mp\n",
    "import meetup as mu\n",
    "import scraping as sc\n",
    "try:\n",
    "    from my_keys import GMAPS_KEY\n",
    "    from my_keys import MU_KEY\n",
    "except ImportError:\n",
    "    print(\"Keys could not be imported. Be sure to create a \\'my_keys.py\\' file\" +\n",
    "          \"in the main directory of the repository with the following definitions:\")\n",
    "    print(\"MU_KEY = \\\"THIS_IS_YOUR_MEETUP_KEY\\\"\")\n",
    "    print(\"GMAPS_KEY = \\\"THIS_IS_YOUR_GOOGLEMAPS_KEY\\\"\")\n",
    "    sys.exit(1)\n",
    "\n",
    "# Configure GoogleMaps mapper\n",
    "gmaps.configure(api_key=GMAPS_KEY)\n",
    "\n",
    "# Configure MeetUp handler\n",
    "mu.mu_requests.add_key(MU_KEY)\n",
    "\n",
    "# List of the cities from where we fetch activities\n",
    "cities = [\"London\", \"Barcelona\", \"Berlin\", \"Paris\", \"Madrid\", \"Hamburg\", \"New York\", \"Brussels\", \"Hong Kong\", \"Munich\"]"
   ]
  },
  {
   "cell_type": "markdown",
   "metadata": {},
   "source": [
    "# Retrieve data for the chosen cities from the MeetUp client API (long job):"
   ]
  },
  {
   "cell_type": "code",
   "execution_count": null,
   "metadata": {
    "collapsed": true
   },
   "outputs": [],
   "source": [
    "# Retrieve activities from these cities and save data to \"./csv/city.csv\"\n",
    "for city in cities:\n",
    "    mu.mu_requests.get_and_save_city_events(city)\n",
    "print(\"Events fetching completed\")"
   ]
  },
  {
   "cell_type": "markdown",
   "metadata": {},
   "source": [
    "# Wikipedia scraping\n",
    "\n",
    "(Under development)"
   ]
  },
  {
   "cell_type": "code",
   "execution_count": null,
   "metadata": {
    "collapsed": true
   },
   "outputs": [],
   "source": [
    "from imp import reload\n"
   ]
  },
  {
   "cell_type": "code",
   "execution_count": null,
   "metadata": {},
   "outputs": [],
   "source": [
    "reload(sc.wikipedia)\n",
    "reload(sc.constants)\n",
    "\n",
    "city = \"British Columbia\"\n",
    "# city = \"Barcelona\"\n",
    "district_data = sc.wikipedia.scrap_districts_population(city)\n",
    "sc.wikipedia.write_csv(city, district_data)\n"
   ]
  },
  {
   "cell_type": "markdown",
   "metadata": {},
   "source": [
    "# Examples:"
   ]
  },
  {
   "cell_type": "code",
   "execution_count": null,
   "metadata": {
    "collapsed": true
   },
   "outputs": [],
   "source": [
    "# Mapping activities about Food & Drink and Games in Barcelona\n",
    "city = \"Barcelona\"\n",
    "categories = mp.mapping.get_categories_subset((\"Food & Drink\", \"Games\"))\n",
    "\n",
    "# Create a map instance using retrieved data\n",
    "mymap = mp.mapping.map_activities(city, categories, color_patterns=[\"cyan\", \"magenta\"],geojson=True)\n",
    "\n",
    "# Show map\n",
    "mymap"
   ]
  },
  {
   "cell_type": "code",
   "execution_count": null,
   "metadata": {
    "collapsed": true
   },
   "outputs": [],
   "source": [
    "# Mapping all activities in Paris\n",
    "city = \"Paris\"\n",
    "\n",
    "# Create a map instance using retrieved data\n",
    "mymap = mp.mapping.map_activities(city, color_patterns=\"default\")\n",
    "\n",
    "# Show map\n",
    "mymap"
   ]
  },
  {
   "cell_type": "code",
   "execution_count": null,
   "metadata": {
    "collapsed": true
   },
   "outputs": [],
   "source": [
    "# Mapping activities about Games and Tech in New York\n",
    "city = \"New York\"\n",
    "categories = mp.mapping.get_categories_subset((\"Tech\", \"Games\"))\n",
    "\n",
    "# Create a map instance using retrieved data\n",
    "mymap = mp.mapping.map_activities(city, categories, geojson=False)\n",
    "\n",
    "# Show map\n",
    "mymap"
   ]
  },
  {
   "cell_type": "code",
   "execution_count": null,
   "metadata": {
    "collapsed": true
   },
   "outputs": [],
   "source": [
    "# Mapping all activities scheduled in the next week in Hamburg\n",
    "city = \"Hamburg\"\n",
    "hour1 = mp.mapping.get_datetime_object(day=13,hour=0,minut=0,second=0)\n",
    "hour2 = mp.mapping.get_datetime_object(day=19,hour=23,minut=59,second=59)\n",
    "\n",
    "# Create a map instance using retrieved data\n",
    "mymap = mp.mapping.map_activities(city, time_intervals=((hour1, hour2)))\n",
    "\n",
    "# Show map\n",
    "mymap"
   ]
  },
  {
   "cell_type": "code",
   "execution_count": 3,
   "metadata": {},
   "outputs": [
    {
     "ename": "KeyError",
     "evalue": "'Palacio'",
     "traceback": [
      "\u001b[0;31m---------------------------------------------------------------------------\u001b[0m",
      "\u001b[0;31mKeyError\u001b[0m                                  Traceback (most recent call last)",
      "\u001b[0;32m<ipython-input-3-1a0ee9b30a3f>\u001b[0m in \u001b[0;36m<module>\u001b[0;34m()\u001b[0m\n\u001b[1;32m     18\u001b[0m \u001b[0;34m\u001b[0m\u001b[0m\n\u001b[1;32m     19\u001b[0m \u001b[0;31m# Create a map instance using retrieved data\u001b[0m\u001b[0;34m\u001b[0m\u001b[0;34m\u001b[0m\u001b[0m\n\u001b[0;32m---> 20\u001b[0;31m \u001b[0mmymap\u001b[0m \u001b[0;34m=\u001b[0m \u001b[0mmp\u001b[0m\u001b[0;34m.\u001b[0m\u001b[0mmapping\u001b[0m\u001b[0;34m.\u001b[0m\u001b[0mmap_activities\u001b[0m\u001b[0;34m(\u001b[0m\u001b[0mcity\u001b[0m\u001b[0;34m,\u001b[0m \u001b[0mtime_intervals\u001b[0m\u001b[0;34m=\u001b[0m\u001b[0;34m(\u001b[0m\u001b[0mweek1\u001b[0m\u001b[0;34m,\u001b[0m \u001b[0mweek2\u001b[0m\u001b[0;34m,\u001b[0m \u001b[0mweek3\u001b[0m\u001b[0;34m)\u001b[0m\u001b[0;34m,\u001b[0m \u001b[0mcolor_patterns\u001b[0m\u001b[0;34m=\u001b[0m\u001b[0mcolor_patterns\u001b[0m\u001b[0;34m,\u001b[0m \u001b[0mgeojson\u001b[0m\u001b[0;34m=\u001b[0m\u001b[0;32mTrue\u001b[0m\u001b[0;34m)\u001b[0m\u001b[0;34m\u001b[0m\u001b[0m\n\u001b[0m\u001b[1;32m     21\u001b[0m \u001b[0;34m\u001b[0m\u001b[0m\n\u001b[1;32m     22\u001b[0m \u001b[0;31m# Show map\u001b[0m\u001b[0;34m\u001b[0m\u001b[0;34m\u001b[0m\u001b[0m\n",
      "\u001b[0;32m~/Dropbox/workspace/uab/ri/mapping/mapping.py\u001b[0m in \u001b[0;36mmap_activities\u001b[0;34m(city, categories, time_intervals, color_patterns, max_intensity, geojson, geojson_options)\u001b[0m\n\u001b[1;32m    355\u001b[0m         \u001b[0minvert\u001b[0m \u001b[0;34m=\u001b[0m \u001b[0mgeojson_options\u001b[0m\u001b[0;34m.\u001b[0m\u001b[0mget\u001b[0m\u001b[0;34m(\u001b[0m\u001b[0;34m'invert'\u001b[0m\u001b[0;34m,\u001b[0m \u001b[0;32mFalse\u001b[0m\u001b[0;34m)\u001b[0m\u001b[0;34m\u001b[0m\u001b[0m\n\u001b[1;32m    356\u001b[0m         districts_layer = load_districts_layer(\n\u001b[0;32m--> 357\u001b[0;31m             city, colorscheme=colorscheme, opacity=opacity, invert=invert)\n\u001b[0m\u001b[1;32m    358\u001b[0m \u001b[0;34m\u001b[0m\u001b[0m\n\u001b[1;32m    359\u001b[0m         \u001b[0mmy_map\u001b[0m\u001b[0;34m.\u001b[0m\u001b[0madd_layer\u001b[0m\u001b[0;34m(\u001b[0m\u001b[0mdistricts_layer\u001b[0m\u001b[0;34m)\u001b[0m\u001b[0;34m\u001b[0m\u001b[0m\n",
      "\u001b[0;32m~/Dropbox/workspace/uab/ri/mapping/mapping.py\u001b[0m in \u001b[0;36mload_districts_layer\u001b[0;34m(city, colorscheme, opacity, invert)\u001b[0m\n\u001b[1;32m    483\u001b[0m         \u001b[0mcurrent_name\u001b[0m \u001b[0;34m=\u001b[0m \u001b[0melem\u001b[0m\u001b[0;34m[\u001b[0m\u001b[0;34m'properties'\u001b[0m\u001b[0;34m]\u001b[0m\u001b[0;34m.\u001b[0m\u001b[0mget\u001b[0m\u001b[0;34m(\u001b[0m\u001b[0;34m'name'\u001b[0m\u001b[0;34m)\u001b[0m \u001b[0;32mor\u001b[0m\u001b[0;31m \u001b[0m\u001b[0;31m\\\u001b[0m\u001b[0;34m\u001b[0m\u001b[0m\n\u001b[1;32m    484\u001b[0m             \u001b[0melem\u001b[0m\u001b[0;34m[\u001b[0m\u001b[0;34m'properties'\u001b[0m\u001b[0;34m]\u001b[0m\u001b[0;34m.\u001b[0m\u001b[0mget\u001b[0m\u001b[0;34m(\u001b[0m\u001b[0;34m'spatial_alias'\u001b[0m\u001b[0;34m)\u001b[0m \u001b[0;32mor\u001b[0m \u001b[0melem\u001b[0m\u001b[0;34m[\u001b[0m\u001b[0;34m'properties'\u001b[0m\u001b[0;34m]\u001b[0m\u001b[0;34m.\u001b[0m\u001b[0mget\u001b[0m\u001b[0;34m(\u001b[0m\u001b[0;34m'stadtbezirk'\u001b[0m\u001b[0;34m)\u001b[0m\u001b[0;34m\u001b[0m\u001b[0m\n\u001b[0;32m--> 485\u001b[0;31m         \u001b[0mcolors\u001b[0m\u001b[0;34m.\u001b[0m\u001b[0mappend\u001b[0m\u001b[0;34m(\u001b[0m\u001b[0mdistrict_colors\u001b[0m\u001b[0;34m[\u001b[0m\u001b[0mcurrent_name\u001b[0m\u001b[0;34m]\u001b[0m\u001b[0;34m)\u001b[0m\u001b[0;34m\u001b[0m\u001b[0m\n\u001b[0m\u001b[1;32m    486\u001b[0m \u001b[0;34m\u001b[0m\u001b[0m\n\u001b[1;32m    487\u001b[0m     \u001b[0;31m# set opacity if no argument given\u001b[0m\u001b[0;34m\u001b[0m\u001b[0;34m\u001b[0m\u001b[0m\n",
      "\u001b[0;31mKeyError\u001b[0m: 'Palacio'"
     ],
     "output_type": "error"
    }
   ],
   "source": [
    "# Mapping all activities scheduled in the three next weeks in Madrid\n",
    "city = \"Madrid\"\n",
    "\n",
    "# Each different week is colored in a different color pattern\n",
    "# Make different groups. Each group can be mapped using a different color pattern\n",
    "date1 = mp.mapping.get_datetime_object(day=13,hour=0,minut=0,second=0)\n",
    "date2 = mp.mapping.get_datetime_object(day=19,hour=23,minut=59,second=59)\n",
    "date3 = mp.mapping.get_datetime_object(day=20,hour=0,minut=0,second=0)\n",
    "date4 = mp.mapping.get_datetime_object(day=26,hour=23,minut=59,second=59)\n",
    "date5 = mp.mapping.get_datetime_object(day=27,hour=0,minut=0,second=0)\n",
    "date6 = mp.mapping.get_datetime_object(month=12,day=3,hour=23,minut=59,second=59)\n",
    "week1 = (date1, date2)\n",
    "week2 = (date3, date4)\n",
    "week3 = (date5, date6)\n",
    "\n",
    "# It is up to you to specify the color patterns that you prefer or you the default ones\n",
    "color_patterns = (\"cyan\", \"red\", \"green\")\n",
    "\n",
    "# Create a map instance using retrieved data\n",
    "mymap = mp.mapping.map_activities(city, time_intervals=(week1, week2, week3), color_patterns=color_patterns, geojson=True)\n",
    "\n",
    "# Show map\n",
    "mymap"
   ]
  },
  {
   "cell_type": "code",
   "execution_count": null,
   "metadata": {
    "collapsed": true
   },
   "outputs": [],
   "source": [
    "# Mapping all activities scheduled from the beginning of November to today in Berlin\n",
    "city = \"Berlin\"\n",
    "hour1 = mp.mapping.get_datetime_object(day=1,hour=0,minut=0,second=0)\n",
    "\n",
    "# Create a map instance using retrieved data\n",
    "mymap = mp.mapping.map_activities(city, time_intervals=(hour1,), geojson=True, geojson_options={'invert':True, 'colorscheme':'inferno'})\n",
    "\n",
    "# Show map\n",
    "mymap"
   ]
  },
  {
   "cell_type": "code",
   "execution_count": null,
   "metadata": {
    "collapsed": true
   },
   "outputs": [],
   "source": [
    "# Mapping all activities scheduled from the beginning of November to today in Berlin\n",
    "city = \"Madrid\"\n",
    "\n",
    "# Create a map instance using retrieved data\n",
    "mymap = mp.mapping.map_activities(city, geojson=True, geojson_options={'invert':True, 'colorscheme':'inferno'})\n",
    "\n",
    "# Show map\n",
    "mymap"
   ]
  },
  {
   "cell_type": "code",
   "execution_count": null,
   "metadata": {
    "collapsed": true
   },
   "outputs": [],
   "source": []
  }
 ],
 "metadata": {
  "kernelspec": {
   "display_name": "Python 3",
   "language": "python",
   "name": "python3"
  },
  "language_info": {
   "codemirror_mode": {
    "name": "ipython",
    "version": 3
   },
   "file_extension": ".py",
   "mimetype": "text/x-python",
   "name": "python",
   "nbconvert_exporter": "python",
   "pygments_lexer": "ipython3",
   "version": "3.6.3"
  }
 },
 "nbformat": 4,
 "nbformat_minor": 2
}
