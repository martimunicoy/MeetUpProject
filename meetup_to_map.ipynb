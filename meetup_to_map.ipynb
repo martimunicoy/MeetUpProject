{
 "cells": [
  {
   "cell_type": "code",
   "execution_count": 1,
   "metadata": {},
   "outputs": [],
   "source": [
    "#jupyter nbextension enable --py --sys-prefix widgetsnbextension\n",
    "#jupyter nbextension enable --py --sys-prefix gmaps\n",
    "#jupyter notebook\n",
    "\n",
    "# Import Standard Modules\n",
    "import os\n",
    "\n",
    "# Import gmaps package to plot on GoogleMaps maps\n",
    "import gmaps\n",
    "\n",
    "# Import our local packages\n",
    "import mapping as mp\n",
    "import meetup as mu\n",
    "try:\n",
    "    from my_keys import GMAPS_KEY\n",
    "    from my_keys import MU_KEY\n",
    "except ImportError:\n",
    "    print(\"Keys could not be imported. Be sure to create a \\'my_keys.py\\' file\" +\n",
    "          \"in the main directory of the repository with the following definitions:\")\n",
    "    print(\"MU_KEY = \\\"THIS_IS_YOUR_MEETUP_KEY\\\"\")\n",
    "    print(\"GMAPS_KEY = \\\"THIS_IS_YOUR_GOOGLEMAPS_KEY\\\"\")\n",
    "    exit(1)"
   ]
  },
  {
   "cell_type": "code",
   "execution_count": 2,
   "metadata": {},
   "outputs": [],
   "source": [
    "# Configure GoogleMaps mapper\n",
    "gmaps.configure(api_key=GMAPS_KEY)\n",
    "\n",
    "# Configure MeetUp handler\n",
    "mu.mu_requests.add_key(MU_KEY)"
   ]
  },
  {
   "cell_type": "code",
   "execution_count": 3,
   "metadata": {
    "collapsed": true
   },
   "outputs": [],
   "source": [
    "# List of the cities from where we fetch activities\n",
    "# List of cities with either (city_name, country_code) or (city_name, (country_code, city_code))\n",
    "cities = [('London', 'gb'),('Barcelona', 'es'), ('Berlin', 'de'),\n",
    "          ('Paris', 'fr'), ('Madrid', 'es'), ('Hamburg', 'de'),\n",
    "          ('New York', ('us', 'NY'))]"
   ]
  },
  {
   "cell_type": "code",
   "execution_count": 4,
   "metadata": {},
   "outputs": [
    {
     "name": "stdout",
     "output_type": "stream",
     "text": [
      " Client throttled, use another key or try it again later\n"
     ]
    },
    {
     "ename": "SystemExit",
     "evalue": "0",
     "output_type": "error",
     "traceback": [
      "An exception has occurred, use %tb to see the full traceback.\n",
      "\u001b[0;31mSystemExit\u001b[0m\u001b[0;31m:\u001b[0m 0\n"
     ]
    },
    {
     "name": "stderr",
     "output_type": "stream",
     "text": [
      "/Users/martimunicoy/anaconda/envs/py35/lib/python3.5/site-packages/IPython/core/interactiveshell.py:2889: UserWarning: To exit: use 'exit', 'quit', or Ctrl-D.\n",
      "  warn(\"To exit: use 'exit', 'quit', or Ctrl-D.\", stacklevel=1)\n"
     ]
    }
   ],
   "source": [
    "# Get the MeetUp list of categories from the API\n",
    "categories = mu.mu_requests.get_categories()"
   ]
  },
  {
   "cell_type": "code",
   "execution_count": 5,
   "metadata": {},
   "outputs": [
    {
     "name": "stdout",
     "output_type": "stream",
     "text": [
      "Searching for all the events in London\n"
     ]
    },
    {
     "ename": "NameError",
     "evalue": "name 'categories' is not defined",
     "output_type": "error",
     "traceback": [
      "\u001b[0;31m---------------------------------------------------------------------------\u001b[0m",
      "\u001b[0;31mNameError\u001b[0m                                 Traceback (most recent call last)",
      "\u001b[0;32m<ipython-input-5-ad77ac41e02c>\u001b[0m in \u001b[0;36m<module>\u001b[0;34m()\u001b[0m\n\u001b[1;32m      6\u001b[0m     \u001b[0;32mwith\u001b[0m \u001b[0mopen\u001b[0m\u001b[0;34m(\u001b[0m\u001b[0mfilename\u001b[0m\u001b[0;34m,\u001b[0m \u001b[0;34m'w'\u001b[0m\u001b[0;34m)\u001b[0m \u001b[0;32mas\u001b[0m \u001b[0mf\u001b[0m\u001b[0;34m:\u001b[0m\u001b[0;34m\u001b[0m\u001b[0m\n\u001b[1;32m      7\u001b[0m         \u001b[0mnum_activities\u001b[0m \u001b[0;34m=\u001b[0m \u001b[0;36m0\u001b[0m\u001b[0;34m\u001b[0m\u001b[0m\n\u001b[0;32m----> 8\u001b[0;31m         \u001b[0;32mfor\u001b[0m \u001b[0mcategory\u001b[0m \u001b[0;32min\u001b[0m \u001b[0mcategories\u001b[0m\u001b[0;34m:\u001b[0m\u001b[0;34m\u001b[0m\u001b[0m\n\u001b[0m\u001b[1;32m      9\u001b[0m             \u001b[0mcategory_id\u001b[0m \u001b[0;34m=\u001b[0m \u001b[0mcategory\u001b[0m\u001b[0;34m[\u001b[0m\u001b[0;34m'id'\u001b[0m\u001b[0;34m]\u001b[0m\u001b[0;34m\u001b[0m\u001b[0m\n\u001b[1;32m     10\u001b[0m             \u001b[0mcategory_label\u001b[0m \u001b[0;34m=\u001b[0m \u001b[0mcategory\u001b[0m\u001b[0;34m[\u001b[0m\u001b[0;34m'name'\u001b[0m\u001b[0;34m]\u001b[0m\u001b[0;34m\u001b[0m\u001b[0m\n",
      "\u001b[0;31mNameError\u001b[0m: name 'categories' is not defined"
     ]
    }
   ],
   "source": [
    "# Retrieve activities from these cities and save data to \"./csv/city.csv\"\n",
    "for city, code_list in cities:\n",
    "    print(\"Searching for all the events in {}\".format(city))\n",
    "    filename = \"./csv/{}.csv\".format(city)\n",
    "    os.makedirs(os.path.dirname(filename), exist_ok=True)\n",
    "    with open(filename, 'w') as f:\n",
    "        num_activities = 0\n",
    "        for category in categories:\n",
    "            category_id = category['id']\n",
    "            category_label = category['name']\n",
    "            results = mu.mu_requests.get_open_events_of_city(city, code_list, category=category_id)\n",
    "            data, no_events_wo_loc = mu.mu_requests.filter_location_for_coordinates(results)\n",
    "            num_activities += len(data)\n",
    "            mu.mu_requests.write_locations(city, data, f, category_id)\n",
    "        mu.mu_requests.write_num_activities(city, num_activities, f)\n",
    "print(\"Activities fetching completed\")"
   ]
  },
  {
   "cell_type": "code",
   "execution_count": null,
   "metadata": {},
   "outputs": [],
   "source": [
    "# Mapping activities in Barcelona\n",
    "city = \"Barcelona\"\n",
    "mymap = mp.mapping.map_activities(city, categories)\n",
    "\n",
    "# Show map\n",
    "mymap"
   ]
  }
 ],
 "metadata": {
  "kernelspec": {
   "display_name": "Python 3",
   "language": "python",
   "name": "python3"
  },
  "language_info": {
   "codemirror_mode": {
    "name": "ipython",
    "version": 3
   },
   "file_extension": ".py",
   "mimetype": "text/x-python",
   "name": "python",
   "nbconvert_exporter": "python",
   "pygments_lexer": "ipython3",
   "version": "3.5.3"
  }
 },
 "nbformat": 4,
 "nbformat_minor": 2
}
