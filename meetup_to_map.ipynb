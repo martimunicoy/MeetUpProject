{
 "cells": [
  {
   "cell_type": "code",
   "execution_count": 1,
   "metadata": {},
   "outputs": [],
   "source": [
    "#jupyter nbextension enable --py --sys-prefix widgetsnbextension\n",
    "#jupyter nbextension enable --py --sys-prefix gmaps\n",
    "#jupyter notebook\n",
    "\n",
    "# Import Standard Modules\n",
    "import os\n",
    "\n",
    "# Import gmaps package to plot on GoogleMaps maps\n",
    "import gmaps\n",
    "\n",
    "# Import our local packages\n",
    "import mapping as mp\n",
    "import meetup as mu\n",
    "try:\n",
    "    from my_keys import GMAPS_KEY\n",
    "    from my_keys import MU_KEY\n",
    "except ImportError:\n",
    "    print(\"Keys could not be imported. Be sure to create a \\'my_keys.py\\' file\" +\n",
    "          \"in the main directory of the repository with the following definitions:\")\n",
    "    print(\"MU_KEY = \\\"THIS_IS_YOUR_MEETUP_KEY\\\"\")\n",
    "    print(\"GMAPS_KEY = \\\"THIS_IS_YOUR_GOOGLEMAPS_KEY\\\"\")\n",
    "    exit(1)"
   ]
  },
  {
   "cell_type": "code",
   "execution_count": 2,
   "metadata": {},
   "outputs": [],
   "source": [
    "# Configure GoogleMaps mapper\n",
    "gmaps.configure(api_key=GMAPS_KEY)\n",
    "\n",
    "# Configure MeetUp handler\n",
    "mu.mu_requests.add_key(MU_KEY)"
   ]
  },
  {
   "cell_type": "code",
   "execution_count": 3,
   "metadata": {
    "collapsed": true
   },
   "outputs": [],
   "source": [
    "# List of the cities from where we fetch activities\n",
    "# List of cities with either (city_name, country_code) or (city_name, (country_code, city_code))\n",
    "cities = [('London', 'gb'),('Barcelona', 'es'), ('Berlin', 'de'),\n",
    "          ('Paris', 'fr'), ('Madrid', 'es'), ('Hamburg', 'de'),\n",
    "          ('New York', ('us', 'NY'))]\n",
    "cities = (cities[0],)"
   ]
  },
  {
   "cell_type": "code",
   "execution_count": 4,
   "metadata": {},
   "outputs": [],
   "source": [
    "# Get the MeetUp list of categories from the API\n",
    "categories = mu.mu_requests.get_categories()\n",
    "\n",
    "# Modify categories dictionary in order to simplify the way to call categories\n",
    "categories = mp.mapping.categories_parser(categories)"
   ]
  },
  {
   "cell_type": "code",
   "execution_count": null,
   "metadata": {},
   "outputs": [],
   "source": [
    "# Retrieve activities from these cities and save data to \"./csv/city.csv\"\n",
    "for city, code_list in cities:\n",
    "    mu.mu_requests.city_events_by_category(city, code_list, categories)\n",
    "print(\"Activities fetching completed\")"
   ]
  },
  {
   "cell_type": "code",
   "execution_count": null,
   "metadata": {},
   "outputs": [],
   "source": [
    "# Mapping activities in Barcelona\n",
    "city = \"Barcelona\"\n",
    "mymap = mp.mapping.map_activities(city, categories)\n",
    "\n",
    "# Show map\n",
    "mymap"
   ]
  },
  {
   "cell_type": "code",
   "execution_count": null,
   "metadata": {
    "collapsed": true
   },
   "outputs": [],
   "source": []
  }
 ],
 "metadata": {
  "kernelspec": {
   "display_name": "Python 3",
   "language": "python",
   "name": "python3"
  },
  "language_info": {
   "codemirror_mode": {
    "name": "ipython",
    "version": 3
   },
   "file_extension": ".py",
   "mimetype": "text/x-python",
   "name": "python",
   "nbconvert_exporter": "python",
   "pygments_lexer": "ipython3",
   "version": "3.5.3"
  }
 },
 "nbformat": 4,
 "nbformat_minor": 2
}
