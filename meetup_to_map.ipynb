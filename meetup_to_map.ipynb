{
 "cells": [
  {
   "cell_type": "markdown",
   "metadata": {},
   "source": [
    "# Imports and declarations:"
   ]
  },
  {
   "cell_type": "code",
   "execution_count": 1,
   "metadata": {},
   "outputs": [],
   "source": [
    "#jupyter nbextension enable --py --sys-prefix widgetsnbextension\n",
    "#jupyter nbextension enable --py --sys-prefix gmaps\n",
    "#jupyter notebook\n",
    "\n",
    "# Import Standard Modules\n",
    "import os\n",
    "import sys\n",
    "\n",
    "# Import gmaps package to plot on GoogleMaps maps\n",
    "import gmaps\n",
    "\n",
    "# Import our local packages\n",
    "import mapping as mp\n",
    "import meetup as mu\n",
    "import scraping as sc\n",
    "try:\n",
    "    from my_keys import GMAPS_KEY\n",
    "    from my_keys import MU_KEY\n",
    "except ImportError:\n",
    "    print(\"Keys could not be imported. Be sure to create a \\'my_keys.py\\' file\" +\n",
    "          \"in the main directory of the repository with the following definitions:\")\n",
    "    print(\"MU_KEY = \\\"THIS_IS_YOUR_MEETUP_KEY\\\"\")\n",
    "    print(\"GMAPS_KEY = \\\"THIS_IS_YOUR_GOOGLEMAPS_KEY\\\"\")\n",
    "    sys.exit(1)\n",
    "\n",
    "# Configure GoogleMaps mapper\n",
    "gmaps.configure(api_key=GMAPS_KEY)\n",
    "\n",
    "# Configure MeetUp handler\n",
    "mu.mu_requests.add_key(MU_KEY)\n",
    "\n",
    "# List of the cities from where we fetch activities\n",
    "cities = [\"London\", \"Barcelona\", \"Berlin\", \"Paris\", \"Madrid\", \"Hamburg\", \"New York\", \"Brussels\", \"Hong Kong\", \"München\"]"
   ]
  },
  {
   "cell_type": "markdown",
   "metadata": {},
   "source": [
    "# Retrieve data for the chosen cities from the MeetUp client API (long job):"
   ]
  },
  {
   "cell_type": "code",
   "execution_count": null,
   "metadata": {},
   "outputs": [],
   "source": [
    "# Retrieve activities from these cities and save data to \"./csv/city.csv\"\n",
    "for city in cities:\n",
    "    mu.mu_requests.get_and_save_city_events(city)\n",
    "print(\"Events fetching completed\")"
   ]
  },
  {
   "cell_type": "markdown",
   "metadata": {},
   "source": [
    "# Wikipedia scraping"
   ]
  },
  {
   "cell_type": "code",
   "execution_count": 13,
   "metadata": {},
   "outputs": [
    {
     "name": "stdout",
     "output_type": "stream",
     "text": [
      "Found url 'Districts of London' with information about London districts.\n",
      " No useful information found here, looking somewhere else...\n",
      "Found url 'Boroughs of London' with information about London districts.\n",
      " No useful information found here, looking somewhere else...\n",
      "Found url 'List_of_London_boroughs' with information about London districts.\n",
      "The following csv file was written: './districts/London.csv'\n"
     ]
    }
   ],
   "source": [
    "# for city in cities:\n",
    "#     district_data = sc.wikipedia.scrap_districts_population(city)\n",
    "#     sc.wikipedia.write_csv(city, district_data)\n",
    "\n",
    "city='London'\n",
    "district_data = sc.wikipedia.scrap_districts_population(city)\n",
    "sc.wikipedia.write_csv(city, district_data)"
   ]
  },
  {
   "cell_type": "markdown",
   "metadata": {},
   "source": [
    "# Districts coloring\n",
    "\n",
    "Districts coloring according to the number of MeetUp events found in their inside. Coloring can be applied by using absolute numbers or numbers expressed per capita. Choose which way we you prefer with __per_capita__ parameter\n",
    "\n",
    "(Beta version)"
   ]
  },
  {
   "cell_type": "code",
   "execution_count": null,
   "metadata": {
    "collapsed": true
   },
   "outputs": [],
   "source": [
    "from imp import reload"
   ]
  },
  {
   "cell_type": "code",
   "execution_count": null,
   "metadata": {},
   "outputs": [],
   "source": [
    "reload(mp.districts)\n",
    "reload(mp.mapping)\n",
    "\n",
    "\n",
    "city = \"Hong Kong\"\n",
    "mp.mapping.paint_districts(city, opacity=0.5, verbose=True, per_capita=False)"
   ]
  },
  {
   "cell_type": "code",
   "execution_count": null,
   "metadata": {},
   "outputs": [],
   "source": [
    "mp.mapping.paint_districts(city, opacity=0.5, per_capita=True)"
   ]
  },
  {
   "cell_type": "markdown",
   "metadata": {},
   "source": [
    "# Examples:"
   ]
  },
  {
   "cell_type": "code",
   "execution_count": null,
   "metadata": {},
   "outputs": [],
   "source": [
    "# Mapping activities about Food & Drink and Games in Barcelona\n",
    "city = \"Barcelona\"\n",
    "categories = mp.mapping.get_categories_subset((\"Food & Drink\", \"Games\"))\n",
    "\n",
    "# Create a map instance using retrieved data\n",
    "mymap = mp.mapping.map_activities(city, categories, color_patterns=[\"cyan\", \"magenta\"],geojson=True)\n",
    "\n",
    "# Show map\n",
    "mymap"
   ]
  },
  {
   "cell_type": "code",
   "execution_count": null,
   "metadata": {},
   "outputs": [],
   "source": [
    "# Mapping all activities in Paris\n",
    "city = \"Paris\"\n",
    "\n",
    "# Create a map instance using retrieved data\n",
    "mymap = mp.mapping.map_activities(city, color_patterns=\"default\")\n",
    "\n",
    "# Show map\n",
    "mymap"
   ]
  },
  {
   "cell_type": "code",
   "execution_count": null,
   "metadata": {},
   "outputs": [],
   "source": [
    "# Mapping activities about Games and Tech in New York\n",
    "city = \"New York\"\n",
    "categories = mp.mapping.get_categories_subset((\"Tech\", \"Games\"))\n",
    "\n",
    "# Create a map instance using retrieved data\n",
    "mymap = mp.mapping.map_activities(city, categories, geojson=False)\n",
    "\n",
    "# Show map\n",
    "mymap"
   ]
  },
  {
   "cell_type": "code",
   "execution_count": null,
   "metadata": {
    "collapsed": true
   },
   "outputs": [],
   "source": [
    "# Mapping all activities scheduled in the next week in Hamburg\n",
    "city = \"Hamburg\"\n",
    "hour1 = mp.mapping.get_datetime_object(day=13,hour=0,minut=0,second=0)\n",
    "hour2 = mp.mapping.get_datetime_object(day=19,hour=23,minut=59,second=59)\n",
    "\n",
    "# Create a map instance using retrieved data\n",
    "mymap = mp.mapping.map_activities(city, time_intervals=((hour1, hour2)))\n",
    "\n",
    "# Show map\n",
    "mymap"
   ]
  },
  {
   "cell_type": "code",
   "execution_count": null,
   "metadata": {},
   "outputs": [],
   "source": [
    "# Mapping all activities scheduled in the three next weeks in Madrid\n",
    "city = \"Madrid\"\n",
    "\n",
    "# Each different week is colored in a different color pattern\n",
    "# Make different groups. Each group can be mapped using a different color pattern\n",
    "date1 = mp.mapping.get_datetime_object(day=13,hour=0,minut=0,second=0)\n",
    "date2 = mp.mapping.get_datetime_object(day=19,hour=23,minut=59,second=59)\n",
    "date3 = mp.mapping.get_datetime_object(day=20,hour=0,minut=0,second=0)\n",
    "date4 = mp.mapping.get_datetime_object(day=26,hour=23,minut=59,second=59)\n",
    "date5 = mp.mapping.get_datetime_object(day=27,hour=0,minut=0,second=0)\n",
    "date6 = mp.mapping.get_datetime_object(month=12,day=3,hour=23,minut=59,second=59)\n",
    "week1 = (date1, date2)\n",
    "week2 = (date3, date4)\n",
    "week3 = (date5, date6)\n",
    "\n",
    "# It is up to you to specify the color patterns that you prefer or you the default ones\n",
    "color_patterns = (\"cyan\", \"red\", \"green\")\n",
    "\n",
    "# Create a map instance using retrieved data\n",
    "mymap = mp.mapping.map_activities(city, time_intervals=(week1, week2, week3), color_patterns=color_patterns, geojson=True)\n",
    "\n",
    "# Show map\n",
    "mymap"
   ]
  },
  {
   "cell_type": "code",
   "execution_count": null,
   "metadata": {},
   "outputs": [],
   "source": [
    "# Mapping all activities scheduled from the beginning of November to today in Berlin\n",
    "city = \"Berlin\"\n",
    "hour1 = mp.mapping.get_datetime_object(day=1,hour=0,minut=0,second=0)\n",
    "\n",
    "# Create a map instance using retrieved data\n",
    "mymap = mp.mapping.map_activities(city, time_intervals=(hour1,), geojson=True, geojson_options={'invert':True, 'colorscheme':'inferno'})\n",
    "\n",
    "# Show map\n",
    "mymap"
   ]
  },
  {
   "cell_type": "code",
   "execution_count": null,
   "metadata": {},
   "outputs": [],
   "source": [
    "# Mapping all activities scheduled from the beginning of November to today in Berlin\n",
    "city = \"Berlin\"\n",
    "city = \"Hong Kong\"\n",
    "\n",
    "\n",
    "# Create a map instance using retrieved data\n",
    "mymap = mp.mapping.print_city_districts(city)#, geojson=True, geojson_options={'invert':True, 'colorscheme':'inferno'})\n",
    "\n",
    "# Show map\n",
    "mymap"
   ]
  },
  {
   "cell_type": "code",
   "execution_count": 2,
   "metadata": {},
   "outputs": [],
   "source": [
    "#Testing \n",
    "opacity=0.7\n",
    "colorscheme = 'inferno'\n",
    "invert = True\n",
    "per_capita=True\n",
    "geojson=True\n",
    "\n",
    "# mymap = mp.mapping.map_activities(city, geojson=geojson, geojson_options={'invert':invert, 'colorscheme':colorscheme, 'opacity':opacity})\n",
    "# mymap = mp.mapping.paint_districts(city, opacity=opacity, colorscheme=colorscheme, per_capita=per_capita)\n",
    "\n",
    "# # Show map\n",
    "# mymap"
   ]
  },
  {
   "cell_type": "code",
   "execution_count": 17,
   "metadata": {},
   "outputs": [
    {
     "data": {
      "application/vnd.jupyter.widget-view+json": {
       "model_id": "2ad76cc863444bc8844f04985de7974a",
       "version_major": 2,
       "version_minor": 0
      },
      "text/html": [
       "<p>Failed to display Jupyter Widget of type <code>Figure</code>.</p>\n",
       "<p>\n",
       "  If you're reading this message in Jupyter Notebook or JupyterLab, it may mean\n",
       "  that the widgets JavaScript is still loading. If this message persists, it\n",
       "  likely means that the widgets JavaScript library is either not installed or\n",
       "  not enabled. See the <a href=\"https://ipywidgets.readthedocs.io/en/stable/user_install.html\">Jupyter\n",
       "  Widgets Documentation</a> for setup instructions.\n",
       "</p>\n",
       "<p>\n",
       "  If you're reading this message in another notebook frontend (for example, a static\n",
       "  rendering on GitHub or <a href=\"https://nbviewer.jupyter.org/\">NBViewer</a>),\n",
       "  it may mean that your frontend doesn't currently support widgets.\n",
       "</p>\n"
      ],
      "text/plain": [
       "Figure()"
      ]
     },
     "metadata": {},
     "output_type": "display_data"
    }
   ],
   "source": [
    "city = cities[0]\n",
    "\n",
    "mymap = mp.mapping.paint_districts(city, opacity=opacity, colorscheme=colorscheme, per_capita=False)\n",
    "mymap"
   ]
  },
  {
   "cell_type": "code",
   "execution_count": 4,
   "metadata": {},
   "outputs": [
    {
     "data": {
      "application/vnd.jupyter.widget-view+json": {
       "model_id": "0e6983ae3a24495f90799370723fdfb7",
       "version_major": 2,
       "version_minor": 0
      },
      "text/html": [
       "<p>Failed to display Jupyter Widget of type <code>Figure</code>.</p>\n",
       "<p>\n",
       "  If you're reading this message in Jupyter Notebook or JupyterLab, it may mean\n",
       "  that the widgets JavaScript is still loading. If this message persists, it\n",
       "  likely means that the widgets JavaScript library is either not installed or\n",
       "  not enabled. See the <a href=\"https://ipywidgets.readthedocs.io/en/stable/user_install.html\">Jupyter\n",
       "  Widgets Documentation</a> for setup instructions.\n",
       "</p>\n",
       "<p>\n",
       "  If you're reading this message in another notebook frontend (for example, a static\n",
       "  rendering on GitHub or <a href=\"https://nbviewer.jupyter.org/\">NBViewer</a>),\n",
       "  it may mean that your frontend doesn't currently support widgets.\n",
       "</p>\n"
      ],
      "text/plain": [
       "Figure()"
      ]
     },
     "metadata": {},
     "output_type": "display_data"
    }
   ],
   "source": [
    "city = cities[1]\n",
    "\n",
    "mymap = mp.mapping.paint_districts(city, opacity=opacity, colorscheme=colorscheme, per_capita=per_capita)\n",
    "mymap"
   ]
  },
  {
   "cell_type": "code",
   "execution_count": 3,
   "metadata": {},
   "outputs": [
    {
     "name": "stdout",
     "output_type": "stream",
     "text": [
      "District: Mitte  |  Number of events: 177  |  Population: 332919.0\n",
      "District: Friedrichshain-Kreuzberg  |  Number of events: 135  |  Population: 268225.0\n",
      "District: Pankow  |  Number of events: 65  |  Population: 366441.0\n",
      "District: Charlottenburg-Wilmersdorf  |  Number of events: 32  |  Population: 319628.0\n",
      "District: Spandau  |  Number of events: 0  |  Population: 223962.0\n",
      "District: Steglitz-Zehlendorf  |  Number of events: 5  |  Population: 293989.0\n",
      "District: Tempelhof-Schöneberg  |  Number of events: 29  |  Population: 335060.0\n",
      "District: Neukölln  |  Number of events: 34  |  Population: 310283.0\n",
      "District: Treptow-Köpenick  |  Number of events: 7  |  Population: 241335.0\n",
      "District: Marzahn-Hellersdorf  |  Number of events: 1  |  Population: 248264.0\n",
      "District: Lichtenberg  |  Number of events: 5  |  Population: 259881.0\n",
      "District: Reinickendorf  |  Number of events: 0  |  Population: 240454.0\n"
     ]
    },
    {
     "data": {
      "application/vnd.jupyter.widget-view+json": {
       "model_id": "f88c8532d3d648598e03d5195b0a41c1",
       "version_major": 2,
       "version_minor": 0
      },
      "text/html": [
       "<p>Failed to display Jupyter Widget of type <code>Figure</code>.</p>\n",
       "<p>\n",
       "  If you're reading this message in Jupyter Notebook or JupyterLab, it may mean\n",
       "  that the widgets JavaScript is still loading. If this message persists, it\n",
       "  likely means that the widgets JavaScript library is either not installed or\n",
       "  not enabled. See the <a href=\"https://ipywidgets.readthedocs.io/en/stable/user_install.html\">Jupyter\n",
       "  Widgets Documentation</a> for setup instructions.\n",
       "</p>\n",
       "<p>\n",
       "  If you're reading this message in another notebook frontend (for example, a static\n",
       "  rendering on GitHub or <a href=\"https://nbviewer.jupyter.org/\">NBViewer</a>),\n",
       "  it may mean that your frontend doesn't currently support widgets.\n",
       "</p>\n"
      ],
      "text/plain": [
       "Figure()"
      ]
     },
     "metadata": {},
     "output_type": "display_data"
    }
   ],
   "source": [
    "city = cities[2]\n",
    "\n",
    "mymap = mp.mapping.paint_districts(city, opacity=opacity, colorscheme=colorscheme, per_capita=per_capita, verbose=True)\n",
    "mymap"
   ]
  },
  {
   "cell_type": "code",
   "execution_count": 7,
   "metadata": {},
   "outputs": [
    {
     "data": {
      "application/vnd.jupyter.widget-view+json": {
       "model_id": "28ef759f37d04000998a5264e477a23b",
       "version_major": 2,
       "version_minor": 0
      },
      "text/html": [
       "<p>Failed to display Jupyter Widget of type <code>Figure</code>.</p>\n",
       "<p>\n",
       "  If you're reading this message in Jupyter Notebook or JupyterLab, it may mean\n",
       "  that the widgets JavaScript is still loading. If this message persists, it\n",
       "  likely means that the widgets JavaScript library is either not installed or\n",
       "  not enabled. See the <a href=\"https://ipywidgets.readthedocs.io/en/stable/user_install.html\">Jupyter\n",
       "  Widgets Documentation</a> for setup instructions.\n",
       "</p>\n",
       "<p>\n",
       "  If you're reading this message in another notebook frontend (for example, a static\n",
       "  rendering on GitHub or <a href=\"https://nbviewer.jupyter.org/\">NBViewer</a>),\n",
       "  it may mean that your frontend doesn't currently support widgets.\n",
       "</p>\n"
      ],
      "text/plain": [
       "Figure()"
      ]
     },
     "metadata": {},
     "output_type": "display_data"
    }
   ],
   "source": [
    "city = cities[3]\n",
    "\n",
    "mymap = mp.mapping.paint_districts(city, opacity=opacity, colorscheme=colorscheme, per_capita=per_capita)\n",
    "mymap"
   ]
  },
  {
   "cell_type": "code",
   "execution_count": 8,
   "metadata": {},
   "outputs": [
    {
     "data": {
      "application/vnd.jupyter.widget-view+json": {
       "model_id": "61ff3a031d5a4c44bf470c4ba477f969",
       "version_major": 2,
       "version_minor": 0
      },
      "text/html": [
       "<p>Failed to display Jupyter Widget of type <code>Figure</code>.</p>\n",
       "<p>\n",
       "  If you're reading this message in Jupyter Notebook or JupyterLab, it may mean\n",
       "  that the widgets JavaScript is still loading. If this message persists, it\n",
       "  likely means that the widgets JavaScript library is either not installed or\n",
       "  not enabled. See the <a href=\"https://ipywidgets.readthedocs.io/en/stable/user_install.html\">Jupyter\n",
       "  Widgets Documentation</a> for setup instructions.\n",
       "</p>\n",
       "<p>\n",
       "  If you're reading this message in another notebook frontend (for example, a static\n",
       "  rendering on GitHub or <a href=\"https://nbviewer.jupyter.org/\">NBViewer</a>),\n",
       "  it may mean that your frontend doesn't currently support widgets.\n",
       "</p>\n"
      ],
      "text/plain": [
       "Figure()"
      ]
     },
     "metadata": {},
     "output_type": "display_data"
    }
   ],
   "source": [
    "city = cities[4]\n",
    "\n",
    "mymap = mp.mapping.paint_districts(city, opacity=opacity, colorscheme=colorscheme, per_capita=per_capita)\n",
    "mymap"
   ]
  },
  {
   "cell_type": "code",
   "execution_count": 9,
   "metadata": {},
   "outputs": [
    {
     "data": {
      "application/vnd.jupyter.widget-view+json": {
       "model_id": "40e08bb8a8724b28ad5fed4bf8597acb",
       "version_major": 2,
       "version_minor": 0
      },
      "text/html": [
       "<p>Failed to display Jupyter Widget of type <code>Figure</code>.</p>\n",
       "<p>\n",
       "  If you're reading this message in Jupyter Notebook or JupyterLab, it may mean\n",
       "  that the widgets JavaScript is still loading. If this message persists, it\n",
       "  likely means that the widgets JavaScript library is either not installed or\n",
       "  not enabled. See the <a href=\"https://ipywidgets.readthedocs.io/en/stable/user_install.html\">Jupyter\n",
       "  Widgets Documentation</a> for setup instructions.\n",
       "</p>\n",
       "<p>\n",
       "  If you're reading this message in another notebook frontend (for example, a static\n",
       "  rendering on GitHub or <a href=\"https://nbviewer.jupyter.org/\">NBViewer</a>),\n",
       "  it may mean that your frontend doesn't currently support widgets.\n",
       "</p>\n"
      ],
      "text/plain": [
       "Figure()"
      ]
     },
     "metadata": {},
     "output_type": "display_data"
    }
   ],
   "source": [
    "city = cities[5]\n",
    "\n",
    "mymap = mp.mapping.paint_districts(city, opacity=opacity, colorscheme=colorscheme, per_capita=per_capita)\n",
    "mymap"
   ]
  },
  {
   "cell_type": "code",
   "execution_count": 14,
   "metadata": {},
   "outputs": [
    {
     "data": {
      "application/vnd.jupyter.widget-view+json": {
       "model_id": "b367ce1c08d3444f8387eb0b4292e42d",
       "version_major": 2,
       "version_minor": 0
      },
      "text/html": [
       "<p>Failed to display Jupyter Widget of type <code>Figure</code>.</p>\n",
       "<p>\n",
       "  If you're reading this message in Jupyter Notebook or JupyterLab, it may mean\n",
       "  that the widgets JavaScript is still loading. If this message persists, it\n",
       "  likely means that the widgets JavaScript library is either not installed or\n",
       "  not enabled. See the <a href=\"https://ipywidgets.readthedocs.io/en/stable/user_install.html\">Jupyter\n",
       "  Widgets Documentation</a> for setup instructions.\n",
       "</p>\n",
       "<p>\n",
       "  If you're reading this message in another notebook frontend (for example, a static\n",
       "  rendering on GitHub or <a href=\"https://nbviewer.jupyter.org/\">NBViewer</a>),\n",
       "  it may mean that your frontend doesn't currently support widgets.\n",
       "</p>\n"
      ],
      "text/plain": [
       "Figure()"
      ]
     },
     "metadata": {},
     "output_type": "display_data"
    }
   ],
   "source": [
    "city = cities[6]\n",
    "\n",
    "mymap = mp.mapping.paint_districts(city, opacity=opacity, colorscheme=colorscheme, per_capita=per_capita)\n",
    "mymap"
   ]
  },
  {
   "cell_type": "code",
   "execution_count": null,
   "metadata": {},
   "outputs": [],
   "source": [
    "city = cities[7]\n",
    "\n",
    "mymap = mp.mapping.paint_districts(city, opacity=opacity, colorscheme=colorscheme, per_capita=per_capita)\n",
    "mymap"
   ]
  },
  {
   "cell_type": "code",
   "execution_count": null,
   "metadata": {},
   "outputs": [],
   "source": [
    "city = cities[8]\n",
    "\n",
    "mymap = mp.mapping.paint_districts(city, opacity=opacity, colorscheme=colorscheme, per_capita=per_capita)\n",
    "mymap"
   ]
  },
  {
   "cell_type": "code",
   "execution_count": null,
   "metadata": {},
   "outputs": [],
   "source": [
    "city = cities[9]\n",
    "\n",
    "mymap = mp.mapping.paint_districts(city, opacity=opacity, colorscheme=colorscheme, per_capita=per_capita)\n",
    "mymap"
   ]
  },
  {
   "cell_type": "code",
   "execution_count": null,
   "metadata": {},
   "outputs": [],
   "source": []
  }
 ],
 "metadata": {
  "kernelspec": {
   "display_name": "Python 3",
   "language": "python",
   "name": "python3"
  },
  "language_info": {
   "codemirror_mode": {
    "name": "ipython",
    "version": 3
   },
   "file_extension": ".py",
   "mimetype": "text/x-python",
   "name": "python",
   "nbconvert_exporter": "python",
   "pygments_lexer": "ipython3",
   "version": "3.6.3"
  }
 },
 "nbformat": 4,
 "nbformat_minor": 2
}
