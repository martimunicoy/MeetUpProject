{
 "cells": [
  {
   "cell_type": "markdown",
   "metadata": {},
   "source": [
    "# Imports and declarations:"
   ]
  },
  {
   "cell_type": "code",
   "execution_count": 1,
   "metadata": {},
   "outputs": [],
   "source": [
    "#jupyter nbextension enable --py --sys-prefix widgetsnbextension\n",
    "#jupyter nbextension enable --py --sys-prefix gmaps\n",
    "#jupyter notebook\n",
    "\n",
    "# Import Standard Modules\n",
    "import os\n",
    "import sys\n",
    "\n",
    "# Import gmaps package to plot on GoogleMaps maps\n",
    "import gmaps\n",
    "\n",
    "# Import our local packages\n",
    "import mapping as mp\n",
    "import meetup as mu\n",
    "import scraping as sc\n",
    "try:\n",
    "    from my_keys import GMAPS_KEY\n",
    "    from my_keys import MU_KEY\n",
    "except ImportError:\n",
    "    print(\"Keys could not be imported. Be sure to create a \\'my_keys.py\\' file\" +\n",
    "          \"in the main directory of the repository with the following definitions:\")\n",
    "    print(\"MU_KEY = \\\"THIS_IS_YOUR_MEETUP_KEY\\\"\")\n",
    "    print(\"GMAPS_KEY = \\\"THIS_IS_YOUR_GOOGLEMAPS_KEY\\\"\")\n",
    "    sys.exit(1)\n",
    "\n",
    "# Configure GoogleMaps mapper\n",
    "gmaps.configure(api_key=GMAPS_KEY)\n",
    "\n",
    "# Configure MeetUp handler\n",
    "mu.mu_requests.add_key(MU_KEY)\n",
    "\n",
    "# List of the cities from where we fetch activities\n",
    "cities = [\"London\", \"Barcelona\", \"Berlin\", \"Paris\", \"Madrid\",\n",
    "          \"Hamburg\", \"New York\", \"Brussels\", \"Hong Kong\", \"München\"]"
   ]
  },
  {
   "cell_type": "markdown",
   "metadata": {},
   "source": [
    "# Retrieve data for the chosen cities from the MeetUp client API (long job):"
   ]
  },
  {
   "cell_type": "code",
   "execution_count": null,
   "metadata": {
    "collapsed": true
   },
   "outputs": [],
   "source": [
    "# Retrieve activities from these cities and save data to \"./csv/city.csv\"\n",
    "for city in cities:\n",
    "    mu.mu_requests.get_and_save_city_events(city)\n",
    "print(\"Events fetching completed\")"
   ]
  },
  {
   "cell_type": "markdown",
   "metadata": {},
   "source": [
    "# Wikipedia scraping"
   ]
  },
  {
   "cell_type": "code",
   "execution_count": null,
   "metadata": {},
   "outputs": [],
   "source": [
    "# for city in cities:\n",
    "#     district_data = sc.wikipedia.scrap_districts_population(city)\n",
    "#     sc.wikipedia.write_csv(city, district_data)\n",
    "\n",
    "city='London'\n",
    "district_data = sc.wikipedia.scrap_districts_population(city)\n",
    "sc.wikipedia.write_csv(city, district_data)"
   ]
  },
  {
   "cell_type": "markdown",
   "metadata": {},
   "source": [
    "# Districts coloring\n",
    "\n",
    "Districts coloring according to the number of MeetUp events found in their inside. Coloring can be applied by using absolute numbers or numbers expressed per capita. Choose which way we you prefer with __per_capita__ parameter"
   ]
  },
  {
   "cell_type": "code",
   "execution_count": null,
   "metadata": {},
   "outputs": [],
   "source": [
    "city = \"Barcelona\"\n",
    "mp.mapping.paint_districts(city, opacity=0.75, verbose=True, per_capita=True)"
   ]
  },
  {
   "cell_type": "markdown",
   "metadata": {},
   "source": [
    "# Examples:"
   ]
  },
  {
   "cell_type": "code",
   "execution_count": null,
   "metadata": {},
   "outputs": [],
   "source": [
    "# Mapping activities about Food & Drink and Games in Barcelona\n",
    "city = \"Barcelona\"\n",
    "categories = mp.mapping.get_categories_subset((\"Food & Drink\", \"Games\"))\n",
    "\n",
    "# Create a map instance using retrieved data\n",
    "mymap = mp.mapping.map_activities(city, categories, color_patterns=[\"cyan\", \"magenta\"],geojson=True)\n",
    "\n",
    "# Show map\n",
    "mymap"
   ]
  },
  {
   "cell_type": "code",
   "execution_count": null,
   "metadata": {},
   "outputs": [],
   "source": [
    "# Mapping all activities in Paris\n",
    "city = \"Paris\"\n",
    "\n",
    "# Create a map instance using retrieved data\n",
    "mymap = mp.mapping.map_activities(city, color_patterns=\"default\")\n",
    "\n",
    "# Show map\n",
    "mymap"
   ]
  },
  {
   "cell_type": "code",
   "execution_count": null,
   "metadata": {},
   "outputs": [],
   "source": [
    "# Mapping activities about Games and Tech in New York\n",
    "city = \"New York\"\n",
    "categories = mp.mapping.get_categories_subset((\"Tech\", \"Games\"))\n",
    "\n",
    "# Create a map instance using retrieved data\n",
    "mymap = mp.mapping.map_activities(city, categories, geojson=False)\n",
    "\n",
    "# Show map\n",
    "mymap"
   ]
  },
  {
   "cell_type": "code",
   "execution_count": null,
   "metadata": {},
   "outputs": [],
   "source": [
    "# Mapping all activities scheduled in the next week in Hamburg\n",
    "city = \"Hamburg\"\n",
    "hour1 = mp.mapping.get_datetime_object(day=13,hour=0,minut=0,second=0)\n",
    "hour2 = mp.mapping.get_datetime_object(day=19,hour=23,minut=59,second=59)\n",
    "\n",
    "# Create a map instance using retrieved data\n",
    "mymap = mp.mapping.map_activities(city, time_intervals=((hour1, hour2)))\n",
    "\n",
    "# Show map\n",
    "mymap"
   ]
  },
  {
   "cell_type": "code",
   "execution_count": null,
   "metadata": {},
   "outputs": [],
   "source": [
    "# Mapping all activities scheduled in the three next weeks in Madrid\n",
    "city = \"Madrid\"\n",
    "\n",
    "# Each different week is colored in a different color pattern\n",
    "# Make different groups. Each group can be mapped using a different color pattern\n",
    "date1 = mp.mapping.get_datetime_object(day=13,hour=0,minut=0,second=0)\n",
    "date2 = mp.mapping.get_datetime_object(day=19,hour=23,minut=59,second=59)\n",
    "date3 = mp.mapping.get_datetime_object(day=20,hour=0,minut=0,second=0)\n",
    "date4 = mp.mapping.get_datetime_object(day=26,hour=23,minut=59,second=59)\n",
    "date5 = mp.mapping.get_datetime_object(day=27,hour=0,minut=0,second=0)\n",
    "date6 = mp.mapping.get_datetime_object(month=12,day=3,hour=23,minut=59,second=59)\n",
    "week1 = (date1, date2)\n",
    "week2 = (date3, date4)\n",
    "week3 = (date5, date6)\n",
    "\n",
    "# It is up to you to specify the color patterns that you prefer or you the default ones\n",
    "color_patterns = (\"cyan\", \"red\", \"green\")\n",
    "\n",
    "# Create a map instance using retrieved data\n",
    "mymap = mp.mapping.map_activities(city, time_intervals=(week1, week2, week3), color_patterns=color_patterns, geojson=True)\n",
    "\n",
    "# Show map\n",
    "mymap"
   ]
  },
  {
   "cell_type": "code",
   "execution_count": null,
   "metadata": {
    "collapsed": true
   },
   "outputs": [],
   "source": [
    "# Mapping all activities scheduled from the beginning of November to today in Berlin\n",
    "city = \"Berlin\"\n",
    "hour1 = mp.mapping.get_datetime_object(day=1,hour=0,minut=0,second=0)\n",
    "\n",
    "# Create a map instance using retrieved data\n",
    "mymap = mp.mapping.map_activities(city, time_intervals=(hour1,), geojson=True, geojson_options={'invert':True, 'colorscheme':'inferno'})\n",
    "\n",
    "# Show map\n",
    "mymap"
   ]
  },
  {
   "cell_type": "code",
   "execution_count": null,
   "metadata": {
    "collapsed": true
   },
   "outputs": [],
   "source": [
    "# Mapping all activities scheduled from the beginning of November to today in Berlin\n",
    "city = \"Berlin\"\n",
    "city = \"Hong Kong\"\n",
    "\n",
    "\n",
    "# Create a map instance using retrieved data\n",
    "mymap = mp.mapping.print_city_districts(city)#, geojson=True, geojson_options={'invert':True, 'colorscheme':'inferno'})\n",
    "\n",
    "# Show map\n",
    "mymap"
   ]
  },
  {
   "cell_type": "code",
   "execution_count": 2,
   "metadata": {},
   "outputs": [],
   "source": [
    "#Testing \n",
    "opacity=0.7\n",
    "colorscheme = 'inferno'\n",
    "invert = True\n",
    "per_capita=False\n",
    "geojson=True\n",
    "verbose=True\n",
    "\n",
    "# mymap = mp.mapping.map_activities(city, geojson=geojson, geojson_options={'invert':invert, 'colorscheme':colorscheme, 'opacity':opacity})\n",
    "# mymap = mp.mapping.paint_districts(city, opacity=opacity, colorscheme=colorscheme, per_capita=per_capita)\n",
    "\n",
    "# # Show map\n",
    "# mymap"
   ]
  },
  {
   "cell_type": "code",
   "execution_count": 3,
   "metadata": {},
   "outputs": [
    {
     "name": "stdout",
     "output_type": "stream",
     "text": [
      "District: Centro  |  Number of events: 133  |  Population: 131928.0\n",
      "District: Arganzuela  |  Number of events: 30  |  Population: 151965.0\n",
      "District: Retiro  |  Number of events: 16  |  Population: 118516.0\n",
      "District: Salamanca  |  Number of events: 18  |  Population: 143800.0\n",
      "District: Chamartín  |  Number of events: 17  |  Population: 143424.0\n",
      "District: Tetuán  |  Number of events: 12  |  Population: 153789.0\n",
      "District: Chamberí  |  Number of events: 23  |  Population: 137401.0\n",
      "District: Fuencarral-El Pardo  |  Number of events: 6  |  Population: 238756.0\n",
      "District: Moncloa-Aravaca  |  Number of events: 15  |  Population: 116903.0\n",
      "District: Latina  |  Number of events: 0  |  Population: 233808.0\n",
      "District: Carabanchel  |  Number of events: 2  |  Population: 243998.0\n",
      "District: Usera  |  Number of events: 0  |  Population: 134791.0\n",
      "District: Puente de Vallecas  |  Number of events: 0  |  Population: 227595.0\n",
      "District: Moratalaz  |  Number of events: 0  |  Population: 94197.0\n",
      "District: Ciudad Lineal  |  Number of events: 1  |  Population: 212529.0\n",
      "District: Hortaleza  |  Number of events: 1  |  Population: 180462.0\n",
      "District: Villaverde  |  Number of events: 5  |  Population: 142608.0\n",
      "District: Villa de Vallecas  |  Number of events: 0  |  Population: 104421.0\n",
      "District: Vicálvaro  |  Number of events: 5  |  Population: 70051.0\n",
      "District: San Blas-Canillejas  |  Number of events: 8  |  Population: 154357.0\n",
      "District: Barajas  |  Number of events: 3  |  Population: 46876.0\n"
     ]
    },
    {
     "data": {
      "application/vnd.jupyter.widget-view+json": {
       "model_id": "542259a4bcde4d15802dbba2d29c02ad",
       "version_major": 2,
       "version_minor": 0
      },
      "text/html": [
       "<p>Failed to display Jupyter Widget of type <code>Figure</code>.</p>\n",
       "<p>\n",
       "  If you're reading this message in Jupyter Notebook or JupyterLab, it may mean\n",
       "  that the widgets JavaScript is still loading. If this message persists, it\n",
       "  likely means that the widgets JavaScript library is either not installed or\n",
       "  not enabled. See the <a href=\"https://ipywidgets.readthedocs.io/en/stable/user_install.html\">Jupyter\n",
       "  Widgets Documentation</a> for setup instructions.\n",
       "</p>\n",
       "<p>\n",
       "  If you're reading this message in another notebook frontend (for example, a static\n",
       "  rendering on GitHub or <a href=\"https://nbviewer.jupyter.org/\">NBViewer</a>),\n",
       "  it may mean that your frontend doesn't currently support widgets.\n",
       "</p>\n"
      ],
      "text/plain": [
       "Figure()"
      ]
     },
     "metadata": {},
     "output_type": "display_data"
    }
   ],
   "source": [
    "city = 'Madrid'\n",
    "\n",
    "mymap = mp.mapping.paint_districts(city, opacity=opacity, colorscheme=colorscheme, per_capita=per_capita, verbose=verbose)\n",
    "mymap"
   ]
  },
  {
   "cell_type": "code",
   "execution_count": null,
   "metadata": {},
   "outputs": [],
   "source": []
  }
 ],
 "metadata": {
  "kernelspec": {
   "display_name": "Python 3",
   "language": "python",
   "name": "python3"
  },
  "language_info": {
   "codemirror_mode": {
    "name": "ipython",
    "version": 3
   },
   "file_extension": ".py",
   "mimetype": "text/x-python",
   "name": "python",
   "nbconvert_exporter": "python",
   "pygments_lexer": "ipython3",
   "version": "3.6.3"
  }
 },
 "nbformat": 4,
 "nbformat_minor": 2
}
