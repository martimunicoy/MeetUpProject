{
 "cells": [
  {
   "cell_type": "markdown",
   "metadata": {},
   "source": [
    "# Imports and declarations:"
   ]
  },
  {
   "cell_type": "code",
   "execution_count": 1,
   "metadata": {},
   "outputs": [],
   "source": [
    "#jupyter nbextension enable --py --sys-prefix widgetsnbextension\n",
    "#jupyter nbextension enable --py --sys-prefix gmaps\n",
    "#jupyter notebook\n",
    "\n",
    "# Import Standard Modules\n",
    "import os\n",
    "\n",
    "# Import gmaps package to plot on GoogleMaps maps\n",
    "import gmaps\n",
    "\n",
    "# Import our local packages\n",
    "import mapping as mp\n",
    "import meetup as mu\n",
    "import scraping as sc\n",
    "try:\n",
    "    from my_keys import GMAPS_KEY\n",
    "    from my_keys import MU_KEY\n",
    "except ImportError:\n",
    "    print(\"Keys could not be imported. Be sure to create a \\'my_keys.py\\' file\" +\n",
    "          \"in the main directory of the repository with the following definitions:\")\n",
    "    print(\"MU_KEY = \\\"THIS_IS_YOUR_MEETUP_KEY\\\"\")\n",
    "    print(\"GMAPS_KEY = \\\"THIS_IS_YOUR_GOOGLEMAPS_KEY\\\"\")\n",
    "    exit(1)\n",
    "\n",
    "# Configure GoogleMaps mapper\n",
    "gmaps.configure(api_key=GMAPS_KEY)\n",
    "\n",
    "# Configure MeetUp handler\n",
    "mu.mu_requests.add_key(MU_KEY)\n",
    "\n",
    "# List of the cities from where we fetch activities\n",
    "cities = [\"London\", \"Barcelona\", \"Berlin\", \"Paris\", \"Madrid\", \"Hamburg\", \"New York\"]"
   ]
  },
  {
   "cell_type": "markdown",
   "metadata": {},
   "source": [
    "# Retrieve data for the chosen cities from the MeetUp client API (long job):"
   ]
  },
  {
   "cell_type": "code",
   "execution_count": null,
   "metadata": {
    "collapsed": true
   },
   "outputs": [],
   "source": [
    "# Retrieve activities from these cities and save data to \"./csv/city.csv\"\n",
    "for city in cities:\n",
    "    mu.mu_requests.get_and_save_city_events(city)\n",
    "print(\"Events fetching completed\")"
   ]
  },
  {
   "cell_type": "markdown",
   "metadata": {},
   "source": [
    "# Wikipedia scraping"
   ]
  },
  {
   "cell_type": "code",
   "execution_count": 20,
   "metadata": {},
   "outputs": [],
   "source": [
    "from imp import reload\n"
   ]
  },
  {
   "cell_type": "code",
   "execution_count": 173,
   "metadata": {},
   "outputs": [
    {
     "name": "stdout",
     "output_type": "stream",
     "text": [
      "8,175,133\n"
     ]
    }
   ],
   "source": [
    "reload(sc.wikipedia)\n",
    "\n",
    "response = sc.wikipedia.get_wikipedia_response(\"New York City\")\n",
    "parsed_response = sc.wikipedia.parse_http_response(response)\n",
    "infobox = sc.wikipedia.get_wikipedia_infobox(parsed_response)\n",
    "print(sc.wikipedia.parse_population_data(sc.wikipedia.get_population_data(infobox, (\"Urban\",\"Total\"))))"
   ]
  },
  {
   "cell_type": "code",
   "execution_count": 177,
   "metadata": {},
   "outputs": [
    {
     "name": "stdout",
     "output_type": "stream",
     "text": [
      "['16,000/km2 (41,000/sq\\xa0mi)', '1,604,555']\n"
     ]
    }
   ],
   "source": [
    "reload(sc.wikipedia)\n",
    "\n",
    "print(sc.wikipedia.scrap_city_population(\"Barcelona\"))"
   ]
  },
  {
   "cell_type": "code",
   "execution_count": 150,
   "metadata": {},
   "outputs": [
    {
     "data": {
      "text/plain": [
       "True"
      ]
     },
     "execution_count": 150,
     "metadata": {},
     "output_type": "execute_result"
    }
   ],
   "source": [
    "a = \"1234\"\n",
    "\"2\" in a\n"
   ]
  },
  {
   "cell_type": "markdown",
   "metadata": {},
   "source": [
    "# Examples:"
   ]
  },
  {
   "cell_type": "code",
   "execution_count": null,
   "metadata": {
    "collapsed": true
   },
   "outputs": [],
   "source": [
    "# Mapping activities about Food & Drink and Games in Barcelona\n",
    "city = \"Barcelona\"\n",
    "categories = mp.mapping.get_categories_subset((\"Food & Drink\", \"Games\"))\n",
    "\n",
    "# Create a map instance using retrieved data\n",
    "mymap = mp.mapping.map_activities(city, categories, color_patterns=[\"cyan\", \"magenta\"])\n",
    "\n",
    "# Show map\n",
    "mymap"
   ]
  },
  {
   "cell_type": "code",
   "execution_count": null,
   "metadata": {
    "collapsed": true
   },
   "outputs": [],
   "source": [
    "# Mapping all activities in Paris\n",
    "city = \"Paris\"\n",
    "\n",
    "# Create a map instance using retrieved data\n",
    "mymap = mp.mapping.map_activities(city, color_patterns=\"default\")\n",
    "\n",
    "# Show map\n",
    "mymap"
   ]
  },
  {
   "cell_type": "code",
   "execution_count": null,
   "metadata": {
    "collapsed": true
   },
   "outputs": [],
   "source": [
    "# Mapping activities about Games and Tech in New York\n",
    "city = \"New York\"\n",
    "categories = mp.mapping.get_categories_subset((\"Tech\", \"Games\"))\n",
    "\n",
    "# Create a map instance using retrieved data\n",
    "mymap = mp.mapping.map_activities(city, categories)\n",
    "\n",
    "# Show map\n",
    "mymap"
   ]
  },
  {
   "cell_type": "code",
   "execution_count": null,
   "metadata": {
    "collapsed": true
   },
   "outputs": [],
   "source": [
    "# Mapping all activities scheduled in the next week in Hamburg\n",
    "city = \"Hamburg\"\n",
    "hour1 = mp.mapping.get_datetime_object(day=13,hour=0,minut=0,second=0)\n",
    "hour2 = mp.mapping.get_datetime_object(day=19,hour=23,minut=59,second=59)\n",
    "\n",
    "# Create a map instance using retrieved data\n",
    "mymap = mp.mapping.map_activities(city, time_intervals=((hour1, hour2)))\n",
    "\n",
    "# Show map\n",
    "mymap"
   ]
  },
  {
   "cell_type": "code",
   "execution_count": null,
   "metadata": {
    "collapsed": true
   },
   "outputs": [],
   "source": [
    "# Mapping all activities scheduled in the three next weeks in Madrid\n",
    "city = \"Madrid\"\n",
    "\n",
    "# Each different week is colored in a different color pattern\n",
    "# Make different groups. Each group can be mapped using a different color pattern\n",
    "date1 = mp.mapping.get_datetime_object(day=13,hour=0,minut=0,second=0)\n",
    "date2 = mp.mapping.get_datetime_object(day=19,hour=23,minut=59,second=59)\n",
    "date3 = mp.mapping.get_datetime_object(day=20,hour=0,minut=0,second=0)\n",
    "date4 = mp.mapping.get_datetime_object(day=26,hour=23,minut=59,second=59)\n",
    "date5 = mp.mapping.get_datetime_object(day=27,hour=0,minut=0,second=0)\n",
    "date6 = mp.mapping.get_datetime_object(month=12,day=3,hour=23,minut=59,second=59)\n",
    "week1 = (date1, date2)\n",
    "week2 = (date3, date4)\n",
    "week3 = (date5, date6)\n",
    "\n",
    "# It is up to you to specify the color patterns that you prefer or you the default ones\n",
    "color_patterns = (\"cyan\", \"red\", \"green\")\n",
    "\n",
    "# Create a map instance using retrieved data\n",
    "mymap = mp.mapping.map_activities(city, time_intervals=(week1, week2, week3), color_patterns=color_patterns)\n",
    "\n",
    "# Show map\n",
    "mymap"
   ]
  },
  {
   "cell_type": "code",
   "execution_count": null,
   "metadata": {
    "collapsed": true
   },
   "outputs": [],
   "source": [
    "# Mapping all activities scheduled from the beginning of November to today in Berlin\n",
    "city = \"Berlin\"\n",
    "hour1 = mp.mapping.get_datetime_object(day=1,hour=0,minut=0,second=0)\n",
    "\n",
    "# Create a map instance using retrieved data\n",
    "mymap = mp.mapping.map_activities(city, time_intervals=(hour1,), color_patterns=\"gray\")\n",
    "\n",
    "# Show map\n",
    "mymap"
   ]
  }
 ],
 "metadata": {
  "kernelspec": {
   "display_name": "Python 3",
   "language": "python",
   "name": "python3"
  },
  "language_info": {
   "codemirror_mode": {
    "name": "ipython",
    "version": 3
   },
   "file_extension": ".py",
   "mimetype": "text/x-python",
   "name": "python",
   "nbconvert_exporter": "python",
   "pygments_lexer": "ipython3",
   "version": "3.6.1"
  }
 },
 "nbformat": 4,
 "nbformat_minor": 2
}
